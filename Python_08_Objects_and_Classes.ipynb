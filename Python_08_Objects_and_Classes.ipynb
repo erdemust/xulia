{
  "nbformat": 4,
  "nbformat_minor": 0,
  "metadata": {
    "colab": {
      "provenance": [],
      "toc_visible": true,
      "include_colab_link": true
    },
    "kernelspec": {
      "name": "python3",
      "display_name": "Python 3"
    },
    "language_info": {
      "name": "python"
    }
  },
  "cells": [
    {
      "cell_type": "markdown",
      "metadata": {
        "id": "view-in-github",
        "colab_type": "text"
      },
      "source": [
        "<a href=\"https://colab.research.google.com/github/erdemust/xulia/blob/master/Python_08_Objects_and_Classes.ipynb\" target=\"_parent\"><img src=\"https://colab.research.google.com/assets/colab-badge.svg\" alt=\"Open In Colab\"/></a>"
      ]
    },
    {
      "cell_type": "markdown",
      "metadata": {
        "id": "cyXnJ6oc8ilJ"
      },
      "source": [
        "# Python, Part VIII: Objects and Classes"
      ]
    },
    {
      "cell_type": "markdown",
      "metadata": {
        "id": "gXLKsMMggL7_"
      },
      "source": [
        "*This Python Notebook is part of a [sequence](http://gr1.me/python-book) authored by [Timothy R James](https://timothyrjames.com/) - feel free to modify, copy, share, or use for your own purposes.*\n",
        "\n",
        "---"
      ]
    },
    {
      "cell_type": "markdown",
      "metadata": {
        "id": "akH854PGDi8T"
      },
      "source": [
        "Functions provide us a great way to reuse code, but they're limited to functionality / behavior - they don't allow us to store data, and they don't allow us to directly connect our behaviors to our data. Objects and classes will allow us to do this."
      ]
    },
    {
      "cell_type": "markdown",
      "metadata": {
        "id": "xnhJuHX08olT"
      },
      "source": [
        "## Declaring Classes"
      ]
    },
    {
      "cell_type": "markdown",
      "metadata": {
        "id": "VuJ9pQIv_hOM"
      },
      "source": [
        "Objects are a combination of data and behaviors; classes are how we specify those objects - what they represent, what they can do, and what information they contain. Classes in Python are declared with the ```class``` keyword; by default they should extend ```object```.\n",
        "\n",
        "init is a special Python method that is used to initialize properties for a class. It's declared as ```__init__``` - often called \"dunder init\" (dunder: **d**ouble **under**score). It shouldn't return a value and should only be used to set up the class - similar to a constructor.\n",
        "\n",
        "Note that all Python methods start with a ```self``` parameter - this is analogous to \"this\" in Java, but is explicitly required as a parameter.\n",
        "\n",
        "In the following code, we create a ```Pet``` class with ```name``` and ```age``` properties."
      ]
    },
    {
      "cell_type": "code",
      "metadata": {
        "id": "sf6jqJY78qy1"
      },
      "source": [
        "class Pet(object):\n",
        "    def __init__(self, name, age):\n",
        "        self.name = name\n",
        "        self.age = age"
      ],
      "execution_count": null,
      "outputs": []
    },
    {
      "cell_type": "markdown",
      "metadata": {
        "id": "4lKCzQZ-F6m9"
      },
      "source": [
        "Instantiating objects is simle in Python; we don't even use a ```new``` keyword - you just use the class name."
      ]
    },
    {
      "cell_type": "code",
      "metadata": {
        "id": "ftFzOPshY-mc",
        "colab": {
          "base_uri": "https://localhost:8080/",
          "height": 35
        },
        "outputId": "3750df73-efd4-40c2-cd32-b627ff00ab73"
      },
      "source": [
        "my_dog = Pet('Fido', 4)\n",
        "my_dog.name"
      ],
      "execution_count": null,
      "outputs": [
        {
          "output_type": "execute_result",
          "data": {
            "text/plain": [
              "'Fido'"
            ],
            "application/vnd.google.colaboratory.intrinsic+json": {
              "type": "string"
            }
          },
          "metadata": {},
          "execution_count": 2
        }
      ]
    },
    {
      "cell_type": "code",
      "metadata": {
        "id": "XVxPuaQNZNrU",
        "colab": {
          "base_uri": "https://localhost:8080/"
        },
        "outputId": "959bb622-9325-4aa6-e952-2ed5639144c7"
      },
      "source": [
        "my_cat = Pet('Tabby', 7)\n",
        "my_cat.age"
      ],
      "execution_count": null,
      "outputs": [
        {
          "output_type": "execute_result",
          "data": {
            "text/plain": [
              "7"
            ]
          },
          "metadata": {},
          "execution_count": 3
        }
      ]
    },
    {
      "cell_type": "markdown",
      "metadata": {
        "id": "_oWnuWK5ZU9J"
      },
      "source": [
        "While we typically populate our object's properties in the ```__init__``` method, objects in Python are dynamic. While it's not the best programming practice, we can add new properties as necessary."
      ]
    },
    {
      "cell_type": "code",
      "metadata": {
        "id": "oj6yhSg1ZhVC",
        "colab": {
          "base_uri": "https://localhost:8080/"
        },
        "outputId": "989d906f-056e-476d-f8c1-c0fb880bdaf7"
      },
      "source": [
        "my_dog.colors = ['brown', 'white']\n",
        "my_dog.colors"
      ],
      "execution_count": null,
      "outputs": [
        {
          "output_type": "execute_result",
          "data": {
            "text/plain": [
              "['brown', 'white']"
            ]
          },
          "metadata": {},
          "execution_count": 4
        }
      ]
    },
    {
      "cell_type": "markdown",
      "metadata": {
        "id": "RN55E9qoGCXe"
      },
      "source": [
        "Methods are declared similarly to functions in Python; we use the ```def``` keyword and include ```self``` as a parameter.\n"
      ]
    },
    {
      "cell_type": "code",
      "metadata": {
        "id": "QuiY7bQDGDmO",
        "colab": {
          "base_uri": "https://localhost:8080/"
        },
        "outputId": "1e41b846-0dd9-416f-beae-6ec9a082dc1f"
      },
      "source": [
        "class Pet(object):\n",
        "    def __init__(self, name, age):\n",
        "        self.name = name\n",
        "        self.age = age\n",
        "\n",
        "    def call(self):\n",
        "        print('Here, %s!' % self.name)\n",
        "\n",
        "my_dog = Pet('Lilly', 6)\n",
        "my_dog.call()"
      ],
      "execution_count": null,
      "outputs": [
        {
          "output_type": "stream",
          "name": "stdout",
          "text": [
            "Here, Lilly!\n"
          ]
        }
      ]
    },
    {
      "cell_type": "markdown",
      "metadata": {
        "id": "yyoilftkq_B-"
      },
      "source": [
        "Methods can also return a value."
      ]
    },
    {
      "cell_type": "code",
      "metadata": {
        "id": "s77_XU_MrAxY",
        "colab": {
          "base_uri": "https://localhost:8080/",
          "height": 35
        },
        "outputId": "5ef5442c-d8a8-44c2-b2ac-31a19717dced"
      },
      "source": [
        "class Pet(object):\n",
        "    def __init__(self, name, age):\n",
        "        self.name = name\n",
        "        self.age = age\n",
        "\n",
        "    def call(self):\n",
        "        print(self.get_call())\n",
        "\n",
        "    def get_call(self):\n",
        "        return 'Here, %s!' % self.name\n",
        "\n",
        "my_dog = Pet('Lilly', 6)\n",
        "my_dog.get_call()"
      ],
      "execution_count": null,
      "outputs": [
        {
          "output_type": "execute_result",
          "data": {
            "text/plain": [
              "'Here, Lilly!'"
            ],
            "application/vnd.google.colaboratory.intrinsic+json": {
              "type": "string"
            }
          },
          "metadata": {},
          "execution_count": 6
        }
      ]
    },
    {
      "cell_type": "markdown",
      "metadata": {
        "id": "p-_YAMkK_lE_"
      },
      "source": [
        "We've already seen ```__init__```. There are also other special (\"dunder\") Python methods. Probably the most common is ```__str__```, which is used to convert the object to a string where necessary."
      ]
    },
    {
      "cell_type": "code",
      "metadata": {
        "id": "-hCPJdgm_m2T"
      },
      "source": [
        "class Pet(object):\n",
        "    def __init__(self, name, age):\n",
        "        self.name = name\n",
        "        self.age = age\n",
        "\n",
        "    def call(self):\n",
        "        print(self.get_call())\n",
        "\n",
        "    def get_call(self):\n",
        "        return 'Here, %s!' % self.name\n",
        "\n",
        "    def __str__(self):\n",
        "        return self.name + ' is ' + str(self.age)\n"
      ],
      "execution_count": null,
      "outputs": []
    },
    {
      "cell_type": "markdown",
      "metadata": {
        "id": "5huBEhVB_s61"
      },
      "source": [
        "Because we have a str method, we can print the object directly."
      ]
    },
    {
      "cell_type": "code",
      "metadata": {
        "id": "oT_lS5fJ_uLA",
        "colab": {
          "base_uri": "https://localhost:8080/"
        },
        "outputId": "4617f2a8-a277-4c76-a70f-edf6d2ef4dbb"
      },
      "source": [
        "my_cat = Pet('Heathcliff', 4)\n",
        "print(my_cat)"
      ],
      "execution_count": null,
      "outputs": [
        {
          "output_type": "stream",
          "name": "stdout",
          "text": [
            "Heathcliff is 4\n"
          ]
        }
      ]
    },
    {
      "cell_type": "markdown",
      "metadata": {
        "id": "N2cZSeXlGKnK"
      },
      "source": [
        "A few other special methods we want to include could be ```__len__```, ```__contains__```, and ```__add__```. These allow us to use the ```len()``` function, the ```in``` operator, and the ```+``` operator, respectively."
      ]
    },
    {
      "cell_type": "code",
      "metadata": {
        "id": "T9RRSt-GIsP-"
      },
      "source": [
        "class Points(object):\n",
        "    def __init__(self):\n",
        "        self.points = []\n",
        "\n",
        "    def add_point(self, x, y):\n",
        "        self.points.append((x, y))\n",
        "\n",
        "    def __len__(self):\n",
        "        return len(self.points)\n",
        "\n",
        "    def __contains__(self, p):\n",
        "        return p in self.points\n",
        "\n",
        "    def __add__(self, p):\n",
        "        return self.points + p.points"
      ],
      "execution_count": null,
      "outputs": []
    },
    {
      "cell_type": "markdown",
      "metadata": {
        "id": "2OY8RHwzzBJx"
      },
      "source": [
        "We can now use this class and test its dunder methods."
      ]
    },
    {
      "cell_type": "code",
      "metadata": {
        "id": "YemTQt5DzFgk"
      },
      "source": [
        "p = Points()\n",
        "p.add_point(2, 4)\n",
        "p.add_point(-1, -5)\n",
        "p.add_point(5, 11)"
      ],
      "execution_count": null,
      "outputs": []
    },
    {
      "cell_type": "code",
      "metadata": {
        "id": "122-TdKAzMoh",
        "colab": {
          "base_uri": "https://localhost:8080/"
        },
        "outputId": "0be4c0f5-91f5-4daf-c5cf-3e3aa1eaed56"
      },
      "source": [
        "# Demonstrate the __len__ method\n",
        "len(p)"
      ],
      "execution_count": null,
      "outputs": [
        {
          "output_type": "execute_result",
          "data": {
            "text/plain": [
              "3"
            ]
          },
          "metadata": {},
          "execution_count": 11
        }
      ]
    },
    {
      "cell_type": "code",
      "metadata": {
        "id": "i1sMIc2ozNcj",
        "colab": {
          "base_uri": "https://localhost:8080/"
        },
        "outputId": "703de41a-27d0-4a40-fe01-5bc1f5db61c7"
      },
      "source": [
        "# Demonstrate the __contains__ method\n",
        "(2, 4) in p"
      ],
      "execution_count": null,
      "outputs": [
        {
          "output_type": "execute_result",
          "data": {
            "text/plain": [
              "True"
            ]
          },
          "metadata": {},
          "execution_count": 12
        }
      ]
    },
    {
      "cell_type": "code",
      "metadata": {
        "id": "HU-a3tTtzu-I",
        "colab": {
          "base_uri": "https://localhost:8080/"
        },
        "outputId": "8803b8d1-2c86-45d7-f0db-bbe62c7c5ef5"
      },
      "source": [
        "# Demonstrate the __add__ method\n",
        "other = Points()\n",
        "other.add_point(7, 9)\n",
        "other.add_point(-4, -11)\n",
        "p + other"
      ],
      "execution_count": null,
      "outputs": [
        {
          "output_type": "execute_result",
          "data": {
            "text/plain": [
              "[(2, 4), (-1, -5), (5, 11), (7, 9), (-4, -11)]"
            ]
          },
          "metadata": {},
          "execution_count": 13
        }
      ]
    },
    {
      "cell_type": "markdown",
      "metadata": {
        "id": "T883Uoz-cpkE"
      },
      "source": [
        "Python provides several special methods for overriding comparison operators.\n",
        "* ```__lt__```: less than; <\n",
        "* ```__le__```: less than or equal to; <=\n",
        "* ```__gt__```: greater than; >\n",
        "* ```__ge__```: greater than or equal to; >=\n",
        "* ```__eq__```: equal to; ==\n",
        "* ```__ne__```: not equal to; !="
      ]
    },
    {
      "cell_type": "markdown",
      "metadata": {
        "id": "aRTwYxZU0Ypw"
      },
      "source": [
        "You can learn more about the built-in methods in the official [Python documentation](https://docs.python.org/3/reference/datamodel.html)."
      ]
    },
    {
      "cell_type": "markdown",
      "metadata": {
        "id": "j4DYee25Iur-"
      },
      "source": [
        "You'll probably encounter this sooner or later by accident, but if you don't include the ```self``` keyword, you'll end up with class properties or methods. For example, we can write a class like the following one. To use these class properties, you'll need to use the class name (similar to Java).\n"
      ]
    },
    {
      "cell_type": "code",
      "metadata": {
        "id": "bsGYs8FKI-RE",
        "colab": {
          "base_uri": "https://localhost:8080/"
        },
        "outputId": "f2872af6-d620-44ba-9c79-e6735ce90c9d"
      },
      "source": [
        "class Counter(object):\n",
        "    count = 0\n",
        "\n",
        "    def __init__(self):\n",
        "        Counter.count += 1\n",
        "    \n",
        "    def get_count():\n",
        "        return Counter.count\n",
        "\n",
        "a = Counter()\n",
        "b = Counter()\n",
        "c = Counter()\n",
        "\n",
        "Counter.get_count()"
      ],
      "execution_count": null,
      "outputs": [
        {
          "output_type": "execute_result",
          "data": {
            "text/plain": [
              "3"
            ]
          },
          "metadata": {},
          "execution_count": 14
        }
      ]
    },
    {
      "cell_type": "markdown",
      "metadata": {
        "id": "ci2XUAJiI9qH"
      },
      "source": [
        "You can delete properties from an object using the ```del``` keyword; in fact, you can delete whole variables or objects this way."
      ]
    },
    {
      "cell_type": "code",
      "metadata": {
        "id": "uxqe5EuaJMTe",
        "colab": {
          "base_uri": "https://localhost:8080/",
          "height": 35
        },
        "outputId": "14554164-93e7-481e-c23b-086822c991e4"
      },
      "source": [
        "class MyClass(object):\n",
        "    def __init__(self):\n",
        "        self.name = 'ABC'\n",
        "\n",
        "x = MyClass()\n",
        "x.name"
      ],
      "execution_count": null,
      "outputs": [
        {
          "output_type": "execute_result",
          "data": {
            "text/plain": [
              "'ABC'"
            ],
            "application/vnd.google.colaboratory.intrinsic+json": {
              "type": "string"
            }
          },
          "metadata": {},
          "execution_count": 18
        }
      ]
    },
    {
      "cell_type": "code",
      "metadata": {
        "id": "WKbozNVc4Ubz"
      },
      "source": [
        "del x.name\n",
        "# x.name # You'll get an error if you uncomment and run this line."
      ],
      "execution_count": null,
      "outputs": []
    },
    {
      "cell_type": "code",
      "metadata": {
        "id": "_oIy1s4J4d1g"
      },
      "source": [
        "del x\n",
        "#x # You'll also get an error if you uncomment and run this line."
      ],
      "execution_count": null,
      "outputs": []
    },
    {
      "cell_type": "markdown",
      "metadata": {
        "id": "PxMju-gWJLUC"
      },
      "source": [
        "The last important Python classes & objects topic to discuss is inheritance. Inheritance lets us create subclasses and inherit behaviors from parent classes. To create a subclass, all you have to do is replace ```object``` with your parent class's name."
      ]
    },
    {
      "cell_type": "code",
      "metadata": {
        "id": "J_bMK8q078Mu"
      },
      "source": [
        "class Pet(object):\n",
        "    def __init__(self, name, age):\n",
        "        self.name = name\n",
        "        self.age = age\n",
        "\n",
        "class Dog(Pet):\n",
        "    pass\n",
        "\n",
        "class Cat(Pet):\n",
        "    pass\n",
        "\n",
        "d = Dog('Spot', 1)\n",
        "c = Cat('Boots', 9)"
      ],
      "execution_count": null,
      "outputs": []
    },
    {
      "cell_type": "markdown",
      "metadata": {
        "id": "zDT3jZXx8qdb"
      },
      "source": [
        "If you want to change methods, though, you'll have to jump through some hoops. The parent ```__init__``` method is not called automatically, as you can see below."
      ]
    },
    {
      "cell_type": "code",
      "metadata": {
        "id": "g7tULciN8w9t"
      },
      "source": [
        "class Pet(object):\n",
        "    def __init__(self, name, age):\n",
        "        self.name = name\n",
        "        self.age = age\n",
        "\n",
        "class Dog(Pet):\n",
        "    def __init__(self, breed):\n",
        "        self.breed = breed\n",
        "\n",
        "d = Dog('Poodle')\n",
        "#d.name # You'll get an AttributeError if you uncomment and run this line."
      ],
      "execution_count": null,
      "outputs": []
    },
    {
      "cell_type": "markdown",
      "metadata": {
        "id": "SbYfFVZW9FNM"
      },
      "source": [
        "To call the parent class's ```__init__``` method (or any others), you use the somewhat awkward syntax ```super()``` to get the superclass and call the ```__init__``` method on it."
      ]
    },
    {
      "cell_type": "code",
      "metadata": {
        "id": "9gou5Zna9MbW",
        "colab": {
          "base_uri": "https://localhost:8080/",
          "height": 35
        },
        "outputId": "2963b19c-d3e0-4483-fc37-f11983fc3071"
      },
      "source": [
        "class Pet(object):\n",
        "    def __init__(self, name, age):\n",
        "        self.name = name\n",
        "        self.age = age\n",
        "\n",
        "class Dog(Pet):\n",
        "    def __init__(self, name, age, breed):\n",
        "        super().__init__(name, age)\n",
        "\n",
        "d = Dog('Perry', 3, 'Poodle')\n",
        "d.name"
      ],
      "execution_count": null,
      "outputs": [
        {
          "output_type": "execute_result",
          "data": {
            "text/plain": [
              "'Perry'"
            ],
            "application/vnd.google.colaboratory.intrinsic+json": {
              "type": "string"
            }
          },
          "metadata": {},
          "execution_count": 23
        }
      ]
    },
    {
      "cell_type": "markdown",
      "source": [
        "## You Try It!"
      ],
      "metadata": {
        "id": "xzQAUrHzz4-p"
      }
    },
    {
      "cell_type": "markdown",
      "source": [
        "Using the FruitsList class, instantiate a new FruitsList object, add banana, fig, apple, and pear to it. Print its length, and then print its contents."
      ],
      "metadata": {
        "id": "jEFs1SGqz6eX"
      }
    },
    {
      "cell_type": "code",
      "source": [
        "class FruitsList(object):\n",
        "    def __init__(self):\n",
        "        self.fruits = []\n",
        "\n",
        "    def add_fruit(self, fruit):\n",
        "        self.fruits.append(fruit)\n",
        "\n",
        "    def __len__(self):\n",
        "        return len(self.fruits)\n",
        "\n",
        "    def __contains__(self, fruit):\n",
        "        return fruit in self.fruits\n",
        "\n",
        "    def __str__(self):\n",
        "        return str(self.fruits)\n",
        "\n"
      ],
      "metadata": {
        "id": "3ssdnZeAz6u6"
      },
      "execution_count": null,
      "outputs": []
    },
    {
      "cell_type": "markdown",
      "source": [
        "Define your own class for representing a rectangle. Add methods for the area and perimeter. Add a `__str__` method that will return a string with the width and height."
      ],
      "metadata": {
        "id": "44F6oZQuz7B_"
      }
    },
    {
      "cell_type": "code",
      "source": [],
      "metadata": {
        "id": "mXAxlA_oz7RJ"
      },
      "execution_count": null,
      "outputs": []
    },
    {
      "cell_type": "markdown",
      "metadata": {
        "id": "3ckdEDkrNmqU"
      },
      "source": [
        "**Next: [Python Errors and Files](http://gr1.me/python09)**"
      ]
    }
  ]
}