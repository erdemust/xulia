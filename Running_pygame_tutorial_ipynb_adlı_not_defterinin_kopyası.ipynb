{
  "nbformat": 4,
  "nbformat_minor": 0,
  "metadata": {
    "colab": {
      "provenance": [],
      "include_colab_link": true
    },
    "kernelspec": {
      "name": "python3",
      "display_name": "Python 3"
    }
  },
  "cells": [
    {
      "cell_type": "markdown",
      "metadata": {
        "id": "view-in-github",
        "colab_type": "text"
      },
      "source": [
        "<a href=\"https://colab.research.google.com/github/erdemust/xulia/blob/master/Running_pygame_tutorial_ipynb_adl%C4%B1_not_defterinin_kopyas%C4%B1.ipynb\" target=\"_parent\"><img src=\"https://colab.research.google.com/assets/colab-badge.svg\" alt=\"Open In Colab\"/></a>"
      ]
    },
    {
      "cell_type": "markdown",
      "metadata": {
        "id": "Ll1FJKQcIlmt"
      },
      "source": [
        "##Install pygame"
      ]
    },
    {
      "cell_type": "code",
      "metadata": {
        "id": "trViUvbXAGlj",
        "colab": {
          "base_uri": "https://localhost:8080/"
        },
        "outputId": "7b8a77f6-f7b4-4b6f-f94a-97d4a4cc0773"
      },
      "source": [
        "!pip install pygame"
      ],
      "execution_count": null,
      "outputs": [
        {
          "output_type": "stream",
          "name": "stdout",
          "text": [
            "Looking in indexes: https://pypi.org/simple, https://us-python.pkg.dev/colab-wheels/public/simple/\n",
            "Requirement already satisfied: pygame in /usr/local/lib/python3.10/dist-packages (2.3.0)\n"
          ]
        }
      ]
    },
    {
      "cell_type": "markdown",
      "metadata": {
        "id": "wWRYdkJzIqW3"
      },
      "source": [
        "##Dependencies"
      ]
    },
    {
      "cell_type": "code",
      "metadata": {
        "id": "7X42jJWlAuSl"
      },
      "source": [
        "import cv2\n",
        "from google.colab.patches import cv2_imshow\n",
        "from google.colab import output\n",
        "import time \n",
        "import os, sys"
      ],
      "execution_count": null,
      "outputs": []
    },
    {
      "cell_type": "markdown",
      "metadata": {
        "id": "jobbL8_pIuxP"
      },
      "source": [
        "##Fool system to think it has a video access"
      ]
    },
    {
      "cell_type": "code",
      "metadata": {
        "id": "bBd7TdlTAN9s"
      },
      "source": [
        "# set SDL to use the dummy NULL video driver, \n",
        "#   so it doesn't need a windowing system.\n",
        "os.environ[\"SDL_VIDEODRIVER\"] = \"dummy\""
      ],
      "execution_count": null,
      "outputs": []
    },
    {
      "cell_type": "markdown",
      "metadata": {
        "id": "lFqI32cMI2vq"
      },
      "source": [
        "##Simple Pygame example"
      ]
    },
    {
      "cell_type": "code",
      "metadata": {
        "id": "EMk8HL92ATLL",
        "colab": {
          "base_uri": "https://localhost:8080/",
          "height": 317
        },
        "outputId": "225138e4-f25e-4335-9538-eff80eb318a9"
      },
      "source": [
        "import pygame\n",
        "\n",
        "pygame.init()\n",
        "screen = pygame.display.set_mode((400, 300))\n",
        "done = False\n",
        "is_blue = True\n",
        "x = 30\n",
        "y = 30\n",
        "\n",
        "while not done:\n",
        "        for event in pygame.event.get():\n",
        "                if event.type == pygame.QUIT:\n",
        "                        done = True\n",
        "        \n",
        "        color = (255, 100, 0)\n",
        "        pygame.draw.rect(screen, color, pygame.Rect(x, y, 60, 60))\n",
        "        \n",
        "        pygame.display.flip()\n",
        "\n",
        "        #convert image so it can be displayed in OpenCV\n",
        "        view = pygame.surfarray.array3d(screen)\n",
        "\n",
        "        #  convert from (width, height, channel) to (height, width, channel)\n",
        "        view = view.transpose([1, 0, 2])\n",
        "\n",
        "        #  convert from rgb to bgr\n",
        "        img_bgr = cv2.cvtColor(view, cv2.COLOR_RGB2BGR)\n",
        "\n",
        "        #Display image, clear cell every 0.5 seconds\n",
        "        cv2_imshow(img_bgr)\n",
        "        time.sleep(0.5)\n",
        "        output.clear()\n"
      ],
      "execution_count": null,
      "outputs": [
        {
          "output_type": "display_data",
          "data": {
            "text/plain": [
              "<PIL.Image.Image image mode=RGB size=400x300 at 0x7EFE3D16E620>"
            ],
            "image/png": "[encoded data removed]"
          },
          "metadata": {}
        }
      ]
    },
    {
      "cell_type": "markdown",
      "metadata": {
        "id": "zaOtyAurJGDR"
      },
      "source": [
        "##TODO\n",
        "\n",
        "1. Add a button to break the while loop."
      ]
    }
  ]
}