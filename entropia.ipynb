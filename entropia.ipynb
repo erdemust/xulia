{
 "cells": [
  {
   "cell_type": "markdown",
   "metadata": {},
   "source": [
    "@author: Octavio Gutiérrez de Código Máquina \n",
    "\n",
    "URL del canal: https://www.youtube.com/CodigoMaquina \n",
    "\n",
    "URL del video: https://youtu.be/GWX2YcnaELg\n",
    "\n",
    "<h1 style=\"color:purple\">Entropía: <span style=\"color:#E75480\">Dado Justo vs Injusto</span> </h1> "
   ]
  },
  {
   "cell_type": "code",
   "execution_count": 1,
   "metadata": {},
   "outputs": [
    {
     "name": "stdout",
     "output_type": "stream",
     "text": [
      "Dado Justo: 2.584962500721156\n",
      "Dado Justo: 2.584962500721156\n",
      "Dado Injusto: 2.251629167387823\n",
      "Dado Injusto: 2.251629167387823\n"
     ]
    }
   ],
   "source": [
    "from scipy.stats import entropy\n",
    "from math import log\n",
    "\n",
    "print(\"Dado Justo:\", entropy([1/6, 1/6, 1/6, 1/6, 1/6, 1/6], base=2))\n",
    "print(\"Dado Justo:\", -((1/6)*log(1/6, 2) + (1/6)*log(1/6, 2) + \n",
    "                      (1/6)*log(1/6, 2) + (1/6)*log(1/6, 2) +\n",
    "                      (1/6)*log(1/6, 2) + (1/6)*log(1/6, 2)))\n",
    "\n",
    "print(\"Dado Injusto:\", entropy([1/3, 1/3, 1/12, 1/12, 1/12, 1/12], base=2))\n",
    "print(\"Dado Injusto:\", -((1/3)*log(1/3, 2) + \n",
    "                        (1/3)*log(1/3, 2) +\n",
    "                        (1/12)*log(1/12, 2) +\n",
    "                        (1/12)*log(1/12, 2) +\n",
    "                        (1/12)*log(1/12, 2) +\n",
    "                        (1/12)*log(1/12, 2)))"
   ]
  }
 ],
 "metadata": {
  "kernelspec": {
   "display_name": "Python 3 (ipykernel)",
   "language": "python",
   "name": "python3"
  },
  "language_info": {
   "codemirror_mode": {
    "name": "ipython",
    "version": 3
   },
   "file_extension": ".py",
   "mimetype": "text/x-python",
   "name": "python",
   "nbconvert_exporter": "python",
   "pygments_lexer": "ipython3",
   "version": "3.9.13"
  }
 },
 "nbformat": 4,
 "nbformat_minor": 4
}
