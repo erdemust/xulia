{
  "nbformat": 4,
  "nbformat_minor": 0,
  "metadata": {
    "colab": {
      "private_outputs": true,
      "provenance": [],
      "authorship_tag": "ABX9TyN1iWoBsmE1nXgMu2E1OBrJ",
      "include_colab_link": true
    },
    "kernelspec": {
      "name": "python3",
      "display_name": "Python 3"
    },
    "language_info": {
      "name": "python"
    }
  },
  "cells": [
    {
      "cell_type": "markdown",
      "metadata": {
        "id": "view-in-github",
        "colab_type": "text"
      },
      "source": [
        "<a href=\"https://colab.research.google.com/github/erdemust/xulia/blob/master/Untitled24.ipynb\" target=\"_parent\"><img src=\"https://colab.research.google.com/assets/colab-badge.svg\" alt=\"Open In Colab\"/></a>"
      ]
    },
    {
      "cell_type": "code",
      "execution_count": null,
      "metadata": {
        "id": "CpFF7ZCkwVT_"
      },
      "outputs": [],
      "source": []
    },
    {
      "cell_type": "code",
      "source": [
        "from PIL import Image, ImageDraw, ImageChops\n",
        "import os\n",
        "import random\n",
        "import colorsys\n",
        "import argparse\n",
        "import random\n",
        "\n",
        " \n",
        "import numpy as np\n",
        "import math\n",
        "import matplotlib.pyplot as plt\n",
        "# creating a image object (new image object) with\n",
        "# RGB mode and size 200x200\n",
        "bg_color = (123,5,255,222)\n",
        "image_size_px= 256\n",
        "padding =12\n",
        "num_lines =12\n",
        "points= []\n",
        "line_color = (random.randint(0,256),random.randint(0,256),random.randint(0,256))\n",
        "resim = Image.new('RGBA', (400, 400), (123, 255,123,255)) \n",
        "cizim = ImageDraw.Draw(resim) \n",
        "def random_point(image_size_px: int, padding: int):\n",
        "    return random.randint(padding, image_size_px - padding)\n",
        "line_color = (random.randint(0,256),random.randint(0,256))\n",
        " \n",
        "for _ in range(num_lines):\n",
        "        point = (\n",
        "            random_point(image_size_px, padding),\n",
        "            random_point(image_size_px, padding),\n",
        "        )\n",
        "        points.append(point)\n",
        "print(points)\n",
        "\n",
        "n_points = len(points) - 1\n",
        "for i, point in enumerate(points):\n",
        "\n",
        "        # Create the overlay.\n",
        "        overlay_image = Image.new(\"RGB\", (image_size_px, image_size_px), (0, 0, 0))\n",
        "        overlay_draw = ImageDraw.Draw(overlay_image)\n",
        "        line_color = (random.randint(0,256),random.randint(0,256),random.randint(0,256))\n",
        "\n",
        "        if i == n_points:\n",
        "            # Connect the last point back to the first.\n",
        "            next_point = points[0]\n",
        "        else:\n",
        "            # Otherwise connect it to the next element.\n",
        "            next_point = points[i + 1]\n",
        "\n",
        "   \n",
        "\n",
        "        # Draw the line.\n",
        "        \n",
        "        cizim.line([point, next_point], fill=line_color, width=i)\n",
        "\n",
        "\n",
        " \n",
        "\n",
        " \n",
        "plt.imshow(resim)\n",
        "plt.show()"
      ],
      "metadata": {
        "id": "2Xp9o8dhvzkG"
      },
      "execution_count": null,
      "outputs": []
    }
  ]
}