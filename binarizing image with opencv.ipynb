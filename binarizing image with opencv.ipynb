{
  "nbformat": 4,
  "nbformat_minor": 0,
  "metadata": {
    "colab": {
      "name": "cv2.ipynb",
      "provenance": [],
      "include_colab_link": true
    },
    "kernelspec": {
      "name": "python3",
      "display_name": "Python 3"
    }
  },
  "cells": [
    {
      "cell_type": "markdown",
      "metadata": {
        "id": "view-in-github",
        "colab_type": "text"
      },
      "source": [
        "<a href=\"https://colab.research.google.com/github/erdemust/xulia/blob/master/binarizing%20image%20with%20opencv.ipynb\" target=\"_parent\"><img src=\"https://colab.research.google.com/assets/colab-badge.svg\" alt=\"Open In Colab\"/></a>"
      ]
    },
    {
      "cell_type": "code",
      "metadata": {
        "id": "lCM6cAKllVFQ"
      },
      "source": [
        "import cv2 as cv\n",
        "from PIL import Image\n",
        "from matplotlib import pyplot as plt\n",
        "plt.rc('figure', figsize=(20, 25))\n"
      ],
      "execution_count": null,
      "outputs": []
    },
    {
      "cell_type": "code",
      "metadata": {
        "id": "ToU0hixioP4w",
        "colab": {
          "base_uri": "https://localhost:8080/",
          "height": 295
        },
        "outputId": "4391691c-71b3-44e9-e0c3-fafab11f08a4"
      },
      "source": [
        "!wget https://github.com/kiranbeethoju/DataSets/raw/master/IMG_20200923_200955.jpg"
      ],
      "execution_count": null,
      "outputs": [
        {
          "output_type": "stream",
          "text": [
            "--2020-09-24 03:36:05--  https://github.com/kiranbeethoju/DataSets/raw/master/IMG_20200923_200955.jpg\n",
            "Resolving github.com (github.com)... 140.82.112.4\n",
            "Connecting to github.com (github.com)|140.82.112.4|:443... connected.\n",
            "HTTP request sent, awaiting response... 302 Found\n",
            "Location: https://raw.githubusercontent.com/kiranbeethoju/DataSets/master/IMG_20200923_200955.jpg [following]\n",
            "--2020-09-24 03:36:05--  https://raw.githubusercontent.com/kiranbeethoju/DataSets/master/IMG_20200923_200955.jpg\n",
            "Resolving raw.githubusercontent.com (raw.githubusercontent.com)... 151.101.0.133, 151.101.64.133, 151.101.128.133, ...\n",
            "Connecting to raw.githubusercontent.com (raw.githubusercontent.com)|151.101.0.133|:443... connected.\n",
            "HTTP request sent, awaiting response... 200 OK\n",
            "Length: 1243852 (1.2M) [image/jpeg]\n",
            "Saving to: ‘IMG_20200923_200955.jpg’\n",
            "\n",
            "IMG_20200923_200955 100%[===================>]   1.19M  --.-KB/s    in 0.1s    \n",
            "\n",
            "2020-09-24 03:36:06 (8.13 MB/s) - ‘IMG_20200923_200955.jpg’ saved [1243852/1243852]\n",
            "\n"
          ],
          "name": "stdout"
        }
      ]
    },
    {
      "cell_type": "code",
      "metadata": {
        "id": "fN2YPfJdlXSi"
      },
      "source": [
        "img = cv.imread('/content/IMG_20200923_200955.jpg',0)"
      ],
      "execution_count": null,
      "outputs": []
    },
    {
      "cell_type": "code",
      "metadata": {
        "id": "7pDUQH2OoICM",
        "colab": {
          "base_uri": "https://localhost:8080/",
          "height": 149
        },
        "outputId": "2e2e3b4b-d05e-44a6-cce9-2a42f29f185d"
      },
      "source": [
        "ret,th1 = cv.threshold(img,127,255,cv.THRESH_BINARY)\n",
        "th2 = cv.adaptiveThreshold(img,255,cv.ADAPTIVE_THRESH_MEAN_C,\\\n",
        "            cv.THRESH_BINARY,11,2)\n",
        "\n",
        "blur = cv.GaussianBlur(img,(5,5),0)\n",
        "th3 = cv.adaptiveThreshold(img,255,cv.ADAPTIVE_THRESH_GAUSSIAN_C,\\\n",
        "            cv.THRESH_BINARY,11,9)\n",
        "titles = ['Original Image',\n",
        "            'Adaptive Mean Thresholding', 'Adaptive Gaussian Thresholding']\n",
        "images = [th1, th3]\n",
        "for i in range(2):\n",
        "    plt.subplot(2,2,i+1),plt.imshow(images[i],'gray')\n",
        "    plt.title(titles[i])\n",
        "    plt.xticks([]),plt.yticks([])\n",
        "plt.show()\n",
        "\n",
        "# reference link\n",
        "# https://docs.opencv.org/master/d7/d4d/tutorial_py_thresholding.html"
      ],
      "execution_count": null,
      "outputs": [
        {
          "output_type": "display_data",
          "data": {
            "image/png": "[encoded data removed]",
            "text/plain": [
              "<Figure size 432x288 with 2 Axes>"
            ]
          },
          "metadata": {
            "tags": []
          }
        }
      ]
    },
    {
      "cell_type": "code",
      "metadata": {
        "id": "cmm8qM8vlWyJ",
        "colab": {
          "base_uri": "https://localhost:8080/",
          "height": 139
        },
        "outputId": "fd7cd1f1-9a98-41da-c237-d8709c3a01bd"
      },
      "source": [
        "th3"
      ],
      "execution_count": null,
      "outputs": [
        {
          "output_type": "execute_result",
          "data": {
            "text/plain": [
              "array([[255, 255, 255, ..., 255, 255, 255],\n",
              "       [255, 255, 255, ..., 255, 255, 255],\n",
              "       [255, 255, 255, ..., 255, 255, 255],\n",
              "       ...,\n",
              "       [255, 255, 255, ..., 255, 255, 255],\n",
              "       [255, 255, 255, ..., 255, 255, 255],\n",
              "       [255,   0, 255, ..., 255, 255, 255]], dtype=uint8)"
            ]
          },
          "metadata": {
            "tags": []
          },
          "execution_count": 5
        }
      ]
    },
    {
      "cell_type": "code",
      "metadata": {
        "id": "N_ZnvpQllWvG",
        "colab": {
          "base_uri": "https://localhost:8080/",
          "height": 35
        },
        "outputId": "73fc65d5-6819-49c7-a095-5dc70c441a2c"
      },
      "source": [
        "cv.imwrite(\"bin.jpg\", th3) \n",
        "## now check bin.jpg file in left side files section which is binarized "
      ],
      "execution_count": null,
      "outputs": [
        {
          "output_type": "execute_result",
          "data": {
            "text/plain": [
              "True"
            ]
          },
          "metadata": {
            "tags": []
          },
          "execution_count": 6
        }
      ]
    },
    {
      "cell_type": "code",
      "metadata": {
        "id": "CFSob--mlWsw"
      },
      "source": [],
      "execution_count": null,
      "outputs": []
    },
    {
      "cell_type": "code",
      "metadata": {
        "id": "oBPv-yKtlWob"
      },
      "source": [],
      "execution_count": null,
      "outputs": []
    },
    {
      "cell_type": "code",
      "metadata": {
        "id": "s_jSeY6wlWdd"
      },
      "source": [],
      "execution_count": null,
      "outputs": []
    },
    {
      "cell_type": "code",
      "metadata": {
        "id": "JfCWimoXlUeT"
      },
      "source": [],
      "execution_count": null,
      "outputs": []
    }
  ]
}