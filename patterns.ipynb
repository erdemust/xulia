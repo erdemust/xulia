{
  "nbformat": 4,
  "nbformat_minor": 0,
  "metadata": {
    "colab": {
      "private_outputs": true,
      "provenance": []
    },
    "kernelspec": {
      "name": "python3",
      "display_name": "Python 3"
    },
    "language_info": {
      "name": "python"
    }
  },
  "cells": [
    {
      "cell_type": "code",
      "execution_count": null,
      "metadata": {
        "id": "ZQ_rkVqtcIUq"
      },
      "outputs": [],
      "source": [
        "# Square pattern program\n",
        "size = 5\n",
        "\n",
        "# Create a list of rows\n",
        "for i in range(0, size):\n",
        "    # Create a list of columns\n",
        "    for j in range(0, size):\n",
        "        print(\"*\", end=\"\")\n",
        "    print()"
      ]
    },
    {
      "cell_type": "code",
      "source": [
        "# hollow square pattern\n",
        "size = 5\n",
        "for i in range(size):\n",
        "    for j in range(size):\n",
        "        # print * completely in first and last row\n",
        "        # print * only in first and last position in other rows\n",
        "        if i == 0 or i == size - 1 or j == 0 or j == size - 1:\n",
        "            print('*', end='')\n",
        "        else:\n",
        "            print(' ', end='')\n",
        "    print()"
      ],
      "metadata": {
        "id": "01fTtlIPckun"
      },
      "execution_count": null,
      "outputs": []
    },
    {
      "cell_type": "code",
      "source": [
        "# Left triangle star pattern\n",
        "n = 5\n",
        "\n",
        "for i in range(1, n+1):\n",
        "    # internal loop run for i times\n",
        "    for k in range(1, i+1):\n",
        "        print(\"*\", end=\"\")\n",
        "    print()"
      ],
      "metadata": {
        "id": "FmKvs5dXcyPI"
      },
      "execution_count": null,
      "outputs": []
    },
    {
      "cell_type": "code",
      "source": [
        "# right triangle star pattern\n",
        "size = 5\n",
        "for i in range(size):\n",
        "    for j in range(1, size - i):\n",
        "        print(\" \", end=\"\")\n",
        "    for k in range(0, i + 1):\n",
        "        print(\"*\", end=\"\")\n",
        "    print()"
      ],
      "metadata": {
        "id": "jTKo_T1HdBds"
      },
      "execution_count": null,
      "outputs": []
    },
    {
      "cell_type": "code",
      "source": [
        "# downward triangle star pattern\n",
        "n = 5\n",
        "\n",
        "for i in range(n):\n",
        "    # internal loop run for n - i times\n",
        "    for j in range(n - i):\n",
        "        print('*', end='')\n",
        "    print()"
      ],
      "metadata": {
        "id": "1nohHjvddLfm"
      },
      "execution_count": null,
      "outputs": []
    },
    {
      "cell_type": "code",
      "source": [
        "# downward triangle star pattern\n",
        "size = 5\n",
        "for i in range(size):\n",
        "    for j in range(i):\n",
        "        print(\" \", end=\"\")\n",
        "    for j in range(size, i, -1):\n",
        "        print(\"*\", end=\"\")\n",
        "    print()"
      ],
      "metadata": {
        "id": "Mxu1sYNUdWno"
      },
      "execution_count": null,
      "outputs": []
    },
    {
      "cell_type": "code",
      "source": [
        "# hollow triangle star pattern\n",
        "n = 6\n",
        "for i in range(1, n+1):\n",
        "    for j in range(i):\n",
        "        # print star only at start and end of the row\n",
        "        if j == 0 or j == i-1:\n",
        "            print('*', end='')\n",
        "        # print only star if it's last row\n",
        "        else:\n",
        "            if i != n:\n",
        "                print(' ', end='')\n",
        "            else:\n",
        "                print('*', end='')\n",
        "    print()"
      ],
      "metadata": {
        "id": "cPlViDSxdbJA"
      },
      "execution_count": null,
      "outputs": []
    },
    {
      "cell_type": "code",
      "source": [
        "# pyramid star pattern\n",
        "n = 5\n",
        "for i in range(1, n+1):\n",
        "    for j in range(n - i):\n",
        "        print(' ', end='')\n",
        "    for k in range(2 * i - 1):\n",
        "        print('*', end='')\n",
        "    print()"
      ],
      "metadata": {
        "id": "31narS0kdlI4"
      },
      "execution_count": null,
      "outputs": []
    },
    {
      "cell_type": "code",
      "source": [
        "# hollow pyramid star pattern\n",
        "n = 5\n",
        "for i in range(1, n+1):\n",
        "    # printing spaces\n",
        "    for j in range(n - i):\n",
        "        print(' ', end='')\n",
        "\n",
        "    # printing stars\n",
        "    for k in range(2 * i - 1):\n",
        "        # print star at start and end of the row\n",
        "        if k == 0 or k == 2 * i - 2:\n",
        "            print('*', end='')\n",
        "        else:\n",
        "            if i == n:\n",
        "                print('*', end='')\n",
        "            else:\n",
        "                print(' ', end='')\n",
        "    print()"
      ],
      "metadata": {
        "id": "21B2qWBydt_3"
      },
      "execution_count": null,
      "outputs": []
    },
    {
      "cell_type": "code",
      "source": [
        "# reverse pyramid pattern\n",
        "n = 5\n",
        "\n",
        "for i in range(1, n+1):\n",
        "    # printing spaces\n",
        "    for j in range(i-1):\n",
        "        print(' ', end='')\n",
        "    # printing stars\n",
        "    for j in range(2*(n-i)+1):\n",
        "        print('*', end='')\n",
        "    print()"
      ],
      "metadata": {
        "id": "AEoRicCcdzCw"
      },
      "execution_count": null,
      "outputs": []
    },
    {
      "cell_type": "code",
      "source": [
        "# diamond star pattern\n",
        "n = 5\n",
        "\n",
        "# upward pyramid\n",
        "for i in range(n):\n",
        "    for j in range(n - i - 1):\n",
        "        print(' ', end='')\n",
        "    for j in range(2 * i + 1):\n",
        "        print('*', end='')\n",
        "    print()\n",
        "\n",
        "# downward pyramid\n",
        "for i in range(n - 1):\n",
        "    for j in range(i + 1):\n",
        "        print(' ', end='')\n",
        "    for j in range(2*(n - i - 1) - 1):\n",
        "        print('*', end='')\n",
        "    print()"
      ],
      "metadata": {
        "id": "tbbU7Kiud4tz"
      },
      "execution_count": null,
      "outputs": []
    },
    {
      "cell_type": "code",
      "source": [
        "# hollow diamond star pattern\n",
        "n = 5\n",
        "\n",
        "# upward hollow pyramid\n",
        "for i in range(n):\n",
        "    for j in range(n - i - 1):\n",
        "        print(' ', end='')\n",
        "    for j in range(2 * i + 1):\n",
        "        if j == 0 or j == 2 * i:\n",
        "            print('*', end='')\n",
        "        else:\n",
        "            print(' ', end='')\n",
        "    print()\n",
        "\n",
        "# downward pyramid\n",
        "for i in range(n - 1):\n",
        "    for j in range(i + 1):\n",
        "        print(' ', end='')\n",
        "    for j in range(2*(n - i - 1) - 1):\n",
        "        if j == 0 or j == 2*(n - i - 1) - 2:\n",
        "            print('*', end='')\n",
        "        else:\n",
        "            print(' ', end='')\n",
        "    print()"
      ],
      "metadata": {
        "id": "OTnNCm8Od_TS"
      },
      "execution_count": null,
      "outputs": []
    },
    {
      "cell_type": "code",
      "source": [
        "# hourglass star pattern\n",
        "n = 5\n",
        "\n",
        "# downward pyramid\n",
        "for i in range(n-1):\n",
        "    for j in range(i):\n",
        "        print(' ', end='')\n",
        "    for k in range(2*(n-i)-1):\n",
        "        print('*', end='')\n",
        "    print()\n",
        "# upward pyramid\n",
        "for i in range(n):\n",
        "    for j in range(n-i-1):\n",
        "        print(' ', end='')\n",
        "    for k in range(2*i+1):\n",
        "        print('*', end='')\n",
        "    print()"
      ],
      "metadata": {
        "id": "323Pp35peEnD"
      },
      "execution_count": null,
      "outputs": []
    },
    {
      "cell_type": "code",
      "source": [
        "# right pascal triangle\n",
        "n = 5\n",
        "\n",
        "# upper triangle\n",
        "for i in range(n):\n",
        "    for j in range(i + 1):\n",
        "        print('*', end=\"\")\n",
        "    print()\n",
        "# lower triangle\n",
        "for i in range(n):\n",
        "    for j in range(n - i - 1):\n",
        "        print('*', end=\"\")\n",
        "    print()"
      ],
      "metadata": {
        "id": "Pn4UjDl2eLs9"
      },
      "execution_count": null,
      "outputs": []
    },
    {
      "cell_type": "code",
      "source": [
        "# left pascal triangle\n",
        "n = 5\n",
        "\n",
        "# upper triangle\n",
        "for i in range(n):\n",
        "    # print spaces\n",
        "    for j in range(n - i - 1):\n",
        "        print(' ', end='')\n",
        "    # print stars\n",
        "    for k in range(i + 1):\n",
        "        print('*', end='')\n",
        "    print()\n",
        "\n",
        "# lower triangle\n",
        "for i in range(n - 1):\n",
        "    # print spaces\n",
        "    for j in range(i + 1):\n",
        "        print(' ', end='')\n",
        "    # print stars\n",
        "    for k in range(n - i - 1):\n",
        "        print('*', end='')\n",
        "    print()"
      ],
      "metadata": {
        "id": "crmupJI_eQnc"
      },
      "execution_count": null,
      "outputs": []
    }
  ]
}