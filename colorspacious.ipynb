{
  "nbformat": 4,
  "nbformat_minor": 0,
  "metadata": {
    "colab": {
      "private_outputs": true,
      "provenance": [],
      "authorship_tag": "ABX9TyMHynA6Aez3fiNtwoK2ZC5B",
      "include_colab_link": true
    },
    "kernelspec": {
      "name": "python3",
      "display_name": "Python 3"
    },
    "language_info": {
      "name": "python"
    }
  },
  "cells": [
    {
      "cell_type": "markdown",
      "metadata": {
        "id": "view-in-github",
        "colab_type": "text"
      },
      "source": [
        "<a href=\"https://colab.research.google.com/github/erdemust/xulia/blob/master/colorspacious.ipynb\" target=\"_parent\"><img src=\"https://colab.research.google.com/assets/colab-badge.svg\" alt=\"Open In Colab\"/></a>"
      ]
    },
    {
      "cell_type": "code",
      "execution_count": null,
      "metadata": {
        "id": "kMH1Htq_4KBE"
      },
      "outputs": [],
      "source": [
        "import numpy as np\n",
        "import matplotlib as mpl\n",
        "import matplotlib.pyplot as plt\n",
        "from colorspacious import cspace_converter\n",
        "\n",
        "mpl.rcParams.update({'font.size': 12})\n",
        "\n",
        "# Number of colormap per subplot for particular cmap categories\n",
        "_DSUBS = {'Perceptually Uniform Sequential': 5, 'Sequential': 6,\n",
        "          'Sequential (2)': 6, 'Diverging': 6, 'Cyclic': 3,\n",
        "          'Qualitative': 4, 'Miscellaneous': 6}\n",
        "\n",
        "# Spacing between the colormaps of a subplot\n",
        "_DC = {'Perceptually Uniform Sequential': 1.4, 'Sequential': 0.7,\n",
        "       'Sequential (2)': 1.4, 'Diverging': 1.4, 'Cyclic': 1.4,\n",
        "       'Qualitative': 1.4, 'Miscellaneous': 1.4}\n",
        "\n",
        "# Indices to step through colormap\n",
        "x = np.linspace(0.0, 1.0, 100)\n",
        "\n",
        "# Do plot\n",
        "for cmap_category, cmap_list in cmaps.items():\n",
        "\n",
        "    # Do subplots so that colormaps have enough space.\n",
        "    # Default is 6 colormaps per subplot.\n",
        "    dsub = _DSUBS.get(cmap_category, 6)\n",
        "    nsubplots = int(np.ceil(len(cmap_list) / dsub))\n",
        "\n",
        "    # squeeze=False to handle similarly the case of a single subplot\n",
        "    fig, axs = plt.subplots(nrows=nsubplots, squeeze=False,\n",
        "                            figsize=(7, 2.6*nsubplots))\n",
        "\n",
        "    for i, ax in enumerate(axs.flat):\n",
        "\n",
        "        locs = []  # locations for text labels\n",
        "\n",
        "        for j, cmap in enumerate(cmap_list[i*dsub:(i+1)*dsub]):\n",
        "\n",
        "            # Get RGB values for colormap and convert the colormap in\n",
        "            # CAM02-UCS colorspace.  lab[0, :, 0] is the lightness.\n",
        "            rgb = mpl.colormaps[cmap](x)[np.newaxis, :, :3]\n",
        "            lab = cspace_converter(\"sRGB1\", \"CAM02-UCS\")(rgb)\n",
        "\n",
        "            # Plot colormap L values.  Do separately for each category\n",
        "            # so each plot can be pretty.  To make scatter markers change\n",
        "            # color along plot:\n",
        "            # https://stackoverflow.com/q/8202605/\n",
        "\n",
        "            if cmap_category == 'Sequential':\n",
        "                # These colormaps all start at high lightness, but we want them\n",
        "                # reversed to look nice in the plot, so reverse the order.\n",
        "                y_ = lab[0, ::-1, 0]\n",
        "                c_ = x[::-1]\n",
        "            else:\n",
        "                y_ = lab[0, :, 0]\n",
        "                c_ = x\n",
        "\n",
        "            dc = _DC.get(cmap_category, 1.4)  # cmaps horizontal spacing\n",
        "            ax.scatter(x + j*dc, y_, c=c_, cmap=cmap, s=300, linewidths=0.0)\n",
        "\n",
        "            # Store locations for colormap labels\n",
        "            if cmap_category in ('Perceptually Uniform Sequential',\n",
        "                                 'Sequential'):\n",
        "                locs.append(x[-1] + j*dc)\n",
        "            elif cmap_category in ('Diverging', 'Qualitative', 'Cyclic',\n",
        "                                   'Miscellaneous', 'Sequential (2)'):\n",
        "                locs.append(x[int(x.size/2.)] + j*dc)\n",
        "\n",
        "        # Set up the axis limits:\n",
        "        #   * the 1st subplot is used as a reference for the x-axis limits\n",
        "        #   * lightness values goes from 0 to 100 (y-axis limits)\n",
        "        ax.set_xlim(axs[0, 0].get_xlim())\n",
        "        ax.set_ylim(0.0, 100.0)\n",
        "\n",
        "        # Set up labels for colormaps\n",
        "        ax.xaxis.set_ticks_position('top')\n",
        "        ticker = mpl.ticker.FixedLocator(locs)\n",
        "        ax.xaxis.set_major_locator(ticker)\n",
        "        formatter = mpl.ticker.FixedFormatter(cmap_list[i*dsub:(i+1)*dsub])\n",
        "        ax.xaxis.set_major_formatter(formatter)\n",
        "        ax.xaxis.set_tick_params(rotation=50)\n",
        "        ax.set_ylabel('Lightness $L^*$', fontsize=12)\n",
        "\n",
        "    ax.set_xlabel(cmap_category + ' colormaps', fontsize=14)\n",
        "\n",
        "    fig.tight_layout(h_pad=0.0, pad=1.5)\n",
        "    plt.show()"
      ]
    },
    {
      "cell_type": "code",
      "source": [
        "pip install  colorspacious\n"
      ],
      "metadata": {
        "id": "A9AKbh6I5DLF"
      },
      "execution_count": null,
      "outputs": []
    }
  ]
}