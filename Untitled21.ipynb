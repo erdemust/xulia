{
  "nbformat": 4,
  "nbformat_minor": 0,
  "metadata": {
    "colab": {
      "private_outputs": true,
      "provenance": [],
      "authorship_tag": "ABX9TyNXjASWwT39kTCjuNlu60m5",
      "include_colab_link": true
    },
    "kernelspec": {
      "name": "python3",
      "display_name": "Python 3"
    },
    "language_info": {
      "name": "python"
    }
  },
  "cells": [
    {
      "cell_type": "markdown",
      "metadata": {
        "id": "view-in-github",
        "colab_type": "text"
      },
      "source": [
        "<a href=\"https://colab.research.google.com/github/erdemust/xulia/blob/master/Untitled21.ipynb\" target=\"_parent\"><img src=\"https://colab.research.google.com/assets/colab-badge.svg\" alt=\"Open In Colab\"/></a>"
      ]
    },
    {
      "cell_type": "code",
      "execution_count": null,
      "metadata": {
        "id": "9EcET_MFeHb0"
      },
      "outputs": [],
      "source": [
        "from PIL import Image, ImageDraw, ImageFont\n",
        "import sys, random, argparse\n",
        "import numpy as np\n",
        "import math\n",
        "import matplotlib.pyplot as plt\n",
        "\n",
        "from PIL import Image\n",
        "\n",
        "img = Image.open('a.png').convert(\"RGBA\")\n",
        "\n",
        "text = \"Sustainability\\nReport 2023\"\n",
        " \n",
        "\n",
        "x, y = img.size\n",
        "txt_layer = Image.new(\"RGBA\", (x,y), (255, 255, 255, 0))\n",
        "\n",
        "draw = ImageDraw.Draw(txt_layer)\n",
        "draw.text((300, 900), text, font=font, fill=(2,157,229, 130))\n",
        "\n",
        "new_img = Image.alpha_composite(img, txt_layer)\n",
        "\n",
        "plt.imshow(image)\n",
        "plt.show()\n",
        "\n",
        "\n"
      ]
    },
    {
      "cell_type": "code",
      "source": [
        "import sys, random, argparse\n",
        "import numpy as np\n",
        "import math\n",
        "import matplotlib.pyplot as plt\n",
        "\n",
        "from PIL import Image\n"
      ],
      "metadata": {
        "id": "B_gCvl3bfIoL"
      },
      "execution_count": null,
      "outputs": []
    }
  ]
}