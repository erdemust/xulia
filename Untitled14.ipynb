{
  "nbformat": 4,
  "nbformat_minor": 0,
  "metadata": {
    "colab": {
      "private_outputs": true,
      "provenance": [],
      "authorship_tag": "ABX9TyPG4Wkov70XP4My6NdTetRI",
      "include_colab_link": true
    },
    "kernelspec": {
      "name": "python3",
      "display_name": "Python 3"
    },
    "language_info": {
      "name": "python"
    }
  },
  "cells": [
    {
      "cell_type": "markdown",
      "metadata": {
        "id": "view-in-github",
        "colab_type": "text"
      },
      "source": [
        "<a href=\"https://colab.research.google.com/github/erdemust/xulia/blob/master/Untitled14.ipynb\" target=\"_parent\"><img src=\"https://colab.research.google.com/assets/colab-badge.svg\" alt=\"Open In Colab\"/></a>"
      ]
    },
    {
      "cell_type": "code",
      "execution_count": null,
      "metadata": {
        "id": "P9Jbl3haKZ9c"
      },
      "outputs": [],
      "source": [
        "import cv2\n",
        "import numpy as np\n",
        "import matplotlib.pyplot as plt\n",
        "image = cv2.imread('/content/a.jpg')\n",
        "height, width, channels = image.shape\n",
        "startpoint = (0, 0)\n",
        "endpoint = (height, width)\n",
        "thickness = 9\n",
        "color = (255, 0, 0)\n",
        "image = cv2.line(image, startpoint, endpoint, color, thickness)\n",
        "plt.imshow(image)\n",
        "plt.show()"
      ]
    },
    {
      "cell_type": "code",
      "source": [],
      "metadata": {
        "id": "ScV1UHSfNNGk"
      },
      "execution_count": null,
      "outputs": []
    },
    {
      "cell_type": "code",
      "execution_count": null,
      "metadata": {
        "id": "DWESqaSMNNtu"
      },
      "outputs": [],
      "source": [
        "import cv2\n",
        "import numpy as np\n",
        "import matplotlib.pyplot as plt\n",
        "img = cv2.imread('/content/a.jpg')\n",
        "height, width, channels = image.shape\n",
        "startpoint = (0, 0)\n",
        "endpoint = (height, width)\n",
        "thickness = 9\n",
        "color = (255, 0, 0)\n",
        "\n",
        "\n",
        "\n",
        "# define the array of points\n",
        "points1 = np.array([[455,200],[155,420],[145,350]])\n",
        "points2 = np.array([[200,120],[200,320],[405,350], [600,30]])\n",
        "points3 = np.array([[100,20],[320,20],[45,350], [100,150]])\n",
        "\n",
        "# reshape the points\n",
        "pts1 = points1.reshape(-1,1,2)\n",
        "pts2 = points2.reshape(-1,1,2)\n",
        "pts3 = points3.reshape(-1,1,2)\n",
        "\n",
        "# draw the polylines\n",
        "cv2.polylines(img, [pts1], isClosed=True, color=(255,0,0), thickness = 2)\n",
        "cv2.polylines(img, [pts2], isClosed=False, color=(0,255,0), thickness = 2)\n",
        "cv2.polylines(img, [pts3], isClosed=True, color=(0,0,255), thickness = 2)\n",
        "\n",
        "plt.imshow(img)\n",
        "plt.show()"
      ]
    },
    {
      "cell_type": "code",
      "source": [],
      "metadata": {
        "id": "FgIyG0suLNx8"
      },
      "execution_count": null,
      "outputs": []
    },
    {
      "cell_type": "code",
      "execution_count": null,
      "metadata": {
        "id": "r0Oo3atJLOTg"
      },
      "outputs": [],
      "source": [
        "import cv2\n",
        "import numpy as np\n",
        "import matplotlib.pyplot as plt\n",
        "img = cv2.imread('/content/a.jpg')\n",
        "height, width, channels = image.shape\n",
        "startpoint = (0, 0)\n",
        "endpoint = (height, width)\n",
        "thickness = 9\n",
        "color = (255, 0, 0)\n",
        "img = cv2.line(image, startpoint, endpoint, color, thickness)\n",
        "for i in range(256):\n",
        "  for j in range(256):\n",
        "    img[i,j,0]= 128+ np.random.randint(0,128)\n",
        "    img[i,j,1]=0\n",
        "    img[i,j,2]= 0\n",
        "plt.imshow(image)\n",
        "plt.show()"
      ]
    }
  ]
}