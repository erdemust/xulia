{
  "nbformat": 4,
  "nbformat_minor": 0,
  "metadata": {
    "colab": {
      "private_outputs": true,
      "provenance": [],
      "authorship_tag": "ABX9TyNLqdqikqZb9qfitlLDzc0e",
      "include_colab_link": true
    },
    "kernelspec": {
      "name": "python3",
      "display_name": "Python 3"
    },
    "language_info": {
      "name": "python"
    }
  },
  "cells": [
    {
      "cell_type": "markdown",
      "metadata": {
        "id": "view-in-github",
        "colab_type": "text"
      },
      "source": [
        "<a href=\"https://colab.research.google.com/github/erdemust/xulia/blob/master/PILimage_ipynb_adl%C4%B1_not_defterinin_kopyas%C4%B1.ipynb\" target=\"_parent\"><img src=\"https://colab.research.google.com/assets/colab-badge.svg\" alt=\"Open In Colab\"/></a>"
      ]
    },
    {
      "cell_type": "markdown",
      "source": [
        "bg_color resmin arka plan rengini verir\n",
        "rgba\n",
        "red green blue alpha\n",
        "k y m ve parlaklık degerlerini verdik\n"
      ],
      "metadata": {
        "id": "3i575f66Wkcm"
      }
    },
    {
      "cell_type": "markdown",
      "source": [
        "pil kutuphanesi ile resim yapıyoruz"
      ],
      "metadata": {
        "id": "78BsmjyRSFZu"
      }
    },
    {
      "cell_type": "code",
      "source": [
        "from PIL import Image, ImageDraw, ImageChops\n",
        "import os\n",
        "import random\n",
        "import colorsys\n",
        "import argparse\n",
        "import random\n",
        "\n",
        " \n",
        "import numpy as np\n",
        "import math\n",
        "import matplotlib.pyplot as plt\n",
        "# creating a image object (new image object) with\n",
        "# RGB mode and size 200x200\n",
        "bg_color = (123,5,255,222)\n",
        "boyut = 256\n",
        " \n",
        " \n",
        "resim = Image.new('RGBA', (boyut, boyut), bg_color) \n",
        "cizim= ImageDraw.Draw(resim) \n",
        "for i in range(2,17):\n",
        "    rasNok1= random.randint(2,boyut)\n",
        "    rasNok2= random.randint(2,boyut)\n",
        "    rasNok3= random.randint(2,boyut)\n",
        "    rasNok4= random.randint(2,boyut)\n",
        "    line_color = (rasNok1,rasNok2,rasNok3)\n",
        "    cizim.line((rasNok1,rasNok2, rasNok3,  rasNok4), fill= line_color  , width =rasNok1 // i)\n",
        " \n",
        "plt.imshow(resim)\n",
        "plt.show()"
      ],
      "metadata": {
        "id": "IAylBAdn2w6q"
      },
      "execution_count": null,
      "outputs": []
    },
    {
      "cell_type": "markdown",
      "source": [
        "rasgele noktalra ve renklere ve kalınlıga göre zigiler Çizer"
      ],
      "metadata": {
        "id": "Vek7Dn3RddOn"
      }
    },
    {
      "cell_type": "markdown",
      "source": [
        "döngülerde belirlenen sayiya kadar ayni işlem yapılır"
      ],
      "metadata": {
        "id": "8WF7qA41Z1Mu"
      }
    },
    {
      "cell_type": "code",
      "source": [
        "import random\n",
        "sayi= random.randint(3,5)\n",
        "for sayi in range(sayi):\n",
        "    print(\"anladim \"*sayi)"
      ],
      "metadata": {
        "id": "MqGggdo_ZcMv"
      },
      "execution_count": null,
      "outputs": []
    },
    {
      "cell_type": "markdown",
      "source": [],
      "metadata": {
        "id": "cDWvVFSmWH42"
      }
    },
    {
      "cell_type": "markdown",
      "source": [],
      "metadata": {
        "id": "w91JpKJnWGPv"
      }
    },
    {
      "cell_type": "markdown",
      "source": [
        "w genislik\n",
        "h yükseklik"
      ],
      "metadata": {
        "id": "dX9Q8HODSikW"
      }
    },
    {
      "cell_type": "code",
      "execution_count": null,
      "metadata": {
        "id": "6RD89pM42krQ"
      },
      "outputs": [],
      "source": [
        "from PIL import Image, ImageDraw, ImageChops\n",
        "import os\n",
        "import random\n",
        "import colorsys\n",
        "import argparse\n",
        "\n",
        "\n",
        "def random_point(image_size_px: int, padding: int):\n",
        "    return random.randint(padding, image_size_px - padding)\n",
        "\n",
        "\n",
        "def random_color():\n",
        "\n",
        "    # I want a bright, vivid color, so max V and S and only randomize HUE.\n",
        "    h = random.random()\n",
        "    s = 1\n",
        "    v = 1\n",
        "    float_rbg = colorsys.hsv_to_rgb(h, s, v)\n",
        "\n",
        "    # Return as integer RGB.\n",
        "    return (\n",
        "        int(float_rbg[0] * 255),\n",
        "        int(float_rbg[1] * 255),\n",
        "        int(float_rbg[2] * 255),\n",
        "    )\n",
        "\n",
        "\n",
        "def interpolate(start_color, end_color, factor: float):\n",
        "    # Find the color that is exactly factor (0.0 - 1.0) between the two colors.\n",
        "    new_color_rgb = []\n",
        "    for i in range(3):\n",
        "        new_color_value = factor * end_color[i] + (1 - factor) * start_color[i]\n",
        "        new_color_rgb.append(int(new_color_value))\n",
        "\n",
        "    return tuple(new_color_rgb)\n",
        "\n",
        "\n",
        "def generate_art(collection: str, name: str):\n",
        "    print(\"Generating art\")\n",
        "\n",
        "    # Figure out where we are going to put it.\n",
        "    output_dir = os.path.join(\"output\", collection)\n",
        "    image_path = os.path.join(output_dir, f\"{name}.png\")\n",
        "\n",
        "    # Set size parameters.\n",
        "    rescale = 2\n",
        "    image_size_px = 128 * rescale\n",
        "    padding = 12 * rescale\n",
        "\n",
        "    # Create the directory and base image.\n",
        "    os.makedirs(output_dir, exist_ok=True)\n",
        "    bg_color = (0, 0, 0)\n",
        "    image = Image.new(\"RGB\", (image_size_px, image_size_px), bg_color)\n",
        "\n",
        "    # How many lines do we want to draw?\n",
        "    num_lines = 10\n",
        "    points = []\n",
        "\n",
        "    # Pick the colors.\n",
        "    start_color = random_color()\n",
        "    end_color = random_color()\n",
        "\n",
        "    # Generate points to draw.\n",
        "    for _ in range(num_lines):\n",
        "        point = (\n",
        "            random_point(image_size_px, padding),\n",
        "            random_point(image_size_px, padding),\n",
        "        )\n",
        "        points.append(point)\n",
        "\n",
        "    # Center image.\n",
        "    # Find the bounding box.\n",
        "    min_x = min([p[0] for p in points])\n",
        "    max_x = max([p[0] for p in points])\n",
        "    min_y = min([p[1] for p in points])\n",
        "    max_y = max([p[1] for p in points])\n",
        "\n",
        "    # Find offsets.\n",
        "    x_offset = (min_x - padding) - (image_size_px - padding - max_x)\n",
        "    y_offset = (min_y - padding) - (image_size_px - padding - max_y)\n",
        "\n",
        "    # Move all points by offset.\n",
        "    for i, point in enumerate(points):\n",
        "        points[i] = (point[0] - x_offset // 2, point[1] - y_offset // 2)\n",
        "\n",
        "    # Draw the points.\n",
        "    current_thickness = 1 * rescale\n",
        "    n_points = len(points) - 1\n",
        "    for i, point in enumerate(points):\n",
        "\n",
        "        # Create the overlay.\n",
        "        overlay_image = Image.new(\"RGB\", (image_size_px, image_size_px), (0, 0, 0))\n",
        "        overlay_draw = ImageDraw.Draw(overlay_image)\n",
        "\n",
        "        if i == n_points:\n",
        "            # Connect the last point back to the first.\n",
        "            next_point = points[0]\n",
        "        else:\n",
        "            # Otherwise connect it to the next element.\n",
        "            next_point = points[i + 1]\n",
        "\n",
        "        # Find the right color.\n",
        "        factor = i / n_points\n",
        "        line_color = interpolate(start_color, end_color, factor=factor)\n",
        "\n",
        "        # Draw the line.\n",
        "        overlay_draw.line([point, next_point], fill=line_color, width=current_thickness)\n",
        "\n",
        "        # Increase the thickness.\n",
        "        current_thickness += rescale\n",
        "\n",
        "        # Add the overlay channel.\n",
        "        image = ImageChops.add(image, overlay_image)\n",
        "\n",
        "    # Image is done! Now resize it to be smooth.\n",
        "    image = image.resize(\n",
        "        (image_size_px // rescale, image_size_px // rescale), resample=Image.ANTIALIAS\n",
        "    )\n",
        "\n",
        "    # Save the image.\n",
        "    image.save(image_path)\n",
        "\n",
        "\n",
        "if __name__ == \"__main__\":\n",
        "\n",
        "    parser = argparse.ArgumentParser()\n",
        "    parser.add_argument(\"-n\", type=int, default=1, help=\"Number of images to generate.\")\n",
        "    parser.add_argument(\"--collection\", type=str, help=\"Collection name for the art.\")\n",
        "\n",
        "    args = parser.parse_args()\n",
        "    n = args.n\n",
        "    collection_name = args.collection\n",
        "\n",
        "    for i in range(n):\n",
        "        generate_art(collection_name, f\"{collection_name}_image_{i}\")"
      ]
    },
    {
      "cell_type": "code",
      "source": [],
      "metadata": {
        "id": "3AeW1xGa2oRK"
      },
      "execution_count": null,
      "outputs": []
    }
  ]
}