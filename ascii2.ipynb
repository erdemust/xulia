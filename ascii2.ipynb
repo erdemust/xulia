{
  "nbformat": 4,
  "nbformat_minor": 0,
  "metadata": {
    "colab": {
      "private_outputs": true,
      "provenance": [],
      "authorship_tag": "ABX9TyOKYopTljipv50o6FCAfDh6",
      "include_colab_link": true
    },
    "kernelspec": {
      "name": "python3",
      "display_name": "Python 3"
    },
    "language_info": {
      "name": "python"
    }
  },
  "cells": [
    {
      "cell_type": "markdown",
      "metadata": {
        "id": "view-in-github",
        "colab_type": "text"
      },
      "source": [
        "<a href=\"https://colab.research.google.com/github/erdemust/xulia/blob/master/ascii2.ipynb\" target=\"_parent\"><img src=\"https://colab.research.google.com/assets/colab-badge.svg\" alt=\"Open In Colab\"/></a>"
      ]
    },
    {
      "cell_type": "code",
      "execution_count": null,
      "metadata": {
        "id": "zSAlaDJwHO3n"
      },
      "outputs": [],
      "source": [
        "from PIL import Image\n",
        "\n",
        "ascii_characters_by_surface = \"`^\\\",:;Il!i~+_-?][}{1)(|\\\\/tfjrxnuvczXYUJCLQ0OZmwqpdbkhao*#MW&8%B@$\"\n",
        "\n",
        "\n",
        "def main():\n",
        "    image = Image.open('football-ball.jpg')\n",
        "    # you can first resize the image if needed\n",
        "    # image = image.resize((width, height))\n",
        "    ascii_art = convert_to_ascii_art(image)\n",
        "    save_as_text(ascii_art)\n",
        "\n",
        "\n",
        "def convert_to_ascii_art(image):\n",
        "    ascii_art = []\n",
        "    (width, height) = image.size\n",
        "    for y in range(0, height - 1):\n",
        "        line = ''\n",
        "        for x in range(0, width - 1):\n",
        "            px = image.getpixel((x, y))\n",
        "            line += convert_pixel_to_character(px)\n",
        "        ascii_art.append(line)\n",
        "    return ascii_art\n",
        "\n",
        "\n",
        "def convert_pixel_to_character(pixel):\n",
        "    (r, g, b) = pixel\n",
        "    pixel_brightness = r + g + b\n",
        "    max_brightness = 255 * 3\n",
        "    brightness_weight = len(ascii_characters_by_surface) / max_brightness\n",
        "    index = int(pixel_brightness * brightness_weight) - 1\n",
        "    return ascii_characters_by_surface[index]\n",
        "\n",
        "\n",
        "def save_as_text(ascii_art):\n",
        "    with open(\"image.txt\", \"w\") as file:\n",
        "        for line in ascii_art:\n",
        "            file.write(line)\n",
        "            file.write('\\n')\n",
        "        file.close()\n",
        "\n",
        "\n",
        "if __name__ == '__main__':\n",
        "    main()"
      ]
    }
  ]
}