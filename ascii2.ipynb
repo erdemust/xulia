{
  "nbformat": 4,
  "nbformat_minor": 0,
  "metadata": {
    "colab": {
      "private_outputs": true,
      "provenance": [],
      "authorship_tag": "ABX9TyOJsYd7S4qpkVloJE3QeuH7",
      "include_colab_link": true
    },
    "kernelspec": {
      "name": "python3",
      "display_name": "Python 3"
    },
    "language_info": {
      "name": "python"
    }
  },
  "cells": [
    {
      "cell_type": "markdown",
      "metadata": {
        "id": "view-in-github",
        "colab_type": "text"
      },
      "source": [
        "<a href=\"https://colab.research.google.com/github/erdemust/xulia/blob/master/ascii2.ipynb\" target=\"_parent\"><img src=\"https://colab.research.google.com/assets/colab-badge.svg\" alt=\"Open In Colab\"/></a>"
      ]
    },
    {
      "cell_type": "code",
      "execution_count": null,
      "metadata": {
        "id": "zSAlaDJwHO3n"
      },
      "outputs": [],
      "source": [
        "from PIL import Image\n",
        "\n",
        "ascii_characters_by_surface = \"`^\\\",:;Il!i~+_-?][}{1)(|\\\\/tfjrxnuvczXYUJCLQ0OZmwqpdbkhao*#MW&8%B@$\"\n",
        "\n",
        "\n",
        "def main():\n",
        "    image = Image.open('football-ball.jpg')\n",
        "    # you can first resize the image if needed\n",
        "    # image = image.resize((width, height))\n",
        "    ascii_art = convert_to_ascii_art(image)\n",
        "    save_as_text(ascii_art)\n",
        "\n",
        "\n",
        "def convert_to_ascii_art(image):\n",
        "    ascii_art = []\n",
        "    (width, height) = image.size\n",
        "    for y in range(0, height - 1):\n",
        "        line = ''\n",
        "        for x in range(0, width - 1):\n",
        "            px = image.getpixel((x, y))\n",
        "            line += convert_pixel_to_character(px)\n",
        "        ascii_art.append(line)\n",
        "    return ascii_art\n",
        "\n",
        "\n",
        "def convert_pixel_to_character(pixel):\n",
        "    (r, g, b) = pixel\n",
        "    pixel_brightness = r + g + b\n",
        "    max_brightness = 255 * 3\n",
        "    brightness_weight = len(ascii_characters_by_surface) / max_brightness\n",
        "    index = int(pixel_brightness * brightness_weight) - 1\n",
        "    return ascii_characters_by_surface[index]\n",
        "\n",
        "\n",
        "def save_as_text(ascii_art):\n",
        "    with open(\"image.txt\", \"w\") as file:\n",
        "        for line in ascii_art:\n",
        "            file.write(line)\n",
        "            file.write('\\n')\n",
        "        file.close()\n",
        "\n",
        "\n",
        "if __name__ == '__main__':\n",
        "    main()"
      ]
    },
    {
      "cell_type": "code",
      "source": [
        "from PIL import Image\n",
        "\n",
        "image = Image.open('football-ball.jpg')\n",
        "(width, height) = image.size\n",
        "for y in range(0, height - 1):\n",
        "    for x in range(0, width - 1):\n",
        "        px = image.getpixel((x, y))\n",
        "        print(px)"
      ],
      "metadata": {
        "id": "bBQYuUfjIZbB"
      },
      "execution_count": null,
      "outputs": []
    },
    {
      "cell_type": "code",
      "source": [
        "import sys\n",
        "from PIL import Image\n",
        "import string\n",
        "\n",
        "\n",
        "# pass the image as command line argument\n",
        "image_path = sys.argv[1]\n",
        "img = Image.open(\"geek.jpg\")\n",
        "\n",
        "# resize the image\n",
        "width, height = img.size\n",
        "aspect_ratio = height/width\n",
        "new_width = 120\n",
        "new_height = aspect_ratio * new_width * 0.55\n",
        "img = img.resize((new_width, int(new_height)))\n",
        "# new size of image\n",
        "# print(img.size)\n",
        "\n",
        "# convert image to greyscale format\n",
        "img = img.convert('L')\n",
        "\n",
        "pixels = img.getdata()\n",
        "\n",
        "# replace each pixel with a character from array\n",
        "#chars = [\"B\",\"S\",\"#\",\"&\",\"@\",\"$\",\"%\",\"*\",\"!\",\":\",\".\"]\n",
        "#chars = [\"`\",\"^\",\":\",\";\",\"I\",\"l\",\"!\",\"i\",\"~\",\"+\",\"_\",\"-\",\"?\",\"]\",\"[\",\"}\",\"{\",\"t\"]\n",
        "chars = [\"B\",\"S\",'#',\"$\",\"%\",'@','%',\"!\",\"i\",\"~\",\"+\",\"_\",';',':','*',',',' ']\n",
        " \n",
        " \n",
        "new_pixels = [chars[pixel//16] for pixel in pixels]\n",
        "new_pixels = ''.join(new_pixels)\n",
        "\n",
        "# split string of chars into multiple strings of length equal to new width and create a list\n",
        "new_pixels_count = len(new_pixels)\n",
        "ascii_image = [new_pixels[index:index + new_width] for index in range(0, new_pixels_count, new_width)]\n",
        "ascii_image = \"\\n\".join(ascii_image)\n",
        "print(ascii_image)\n",
        "\n",
        "# write to a text file.\n",
        "with open(\"ascii_image.txt\", \"w\") as f:\n",
        "    f.write(ascii_image)"
      ],
      "metadata": {
        "id": "6m3nPVF7JahZ"
      },
      "execution_count": null,
      "outputs": []
    }
  ]
}