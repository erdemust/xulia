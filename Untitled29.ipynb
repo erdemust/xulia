{
  "nbformat": 4,
  "nbformat_minor": 0,
  "metadata": {
    "colab": {
      "private_outputs": true,
      "provenance": [],
      "authorship_tag": "ABX9TyM5IlCcjWR1S5jyd5+faLqR",
      "include_colab_link": true
    },
    "kernelspec": {
      "name": "python3",
      "display_name": "Python 3"
    },
    "language_info": {
      "name": "python"
    }
  },
  "cells": [
    {
      "cell_type": "markdown",
      "metadata": {
        "id": "view-in-github",
        "colab_type": "text"
      },
      "source": [
        "<a href=\"https://colab.research.google.com/github/erdemust/xulia/blob/master/Untitled29.ipynb\" target=\"_parent\"><img src=\"https://colab.research.google.com/assets/colab-badge.svg\" alt=\"Open In Colab\"/></a>"
      ]
    },
    {
      "cell_type": "code",
      "execution_count": null,
      "metadata": {
        "id": "leVlmpEXxX1i"
      },
      "outputs": [],
      "source": [
        "if 5 > 2:\n",
        "    print(\"Five is greater than two!\") \n",
        "    print(\"Five is greater than two!\")\n"
      ]
    },
    {
      "cell_type": "markdown",
      "source": [
        "tab aralığı eşit olmalı"
      ],
      "metadata": {
        "id": "VAOCuOBdxpmS"
      }
    },
    {
      "cell_type": "code",
      "source": [
        "a = 4\n",
        "A = \"Salı \"\n",
        "\n",
        "print(a)\n",
        "print(A)\n",
        "a*A"
      ],
      "metadata": {
        "id": "mOiFWgmSxxBf"
      },
      "execution_count": null,
      "outputs": []
    },
    {
      "cell_type": "markdown",
      "source": [
        "string ile integer çarpılırsa sayı kadar yazı yasar"
      ],
      "metadata": {
        "id": "fYWdgM7rx71Q"
      }
    }
  ]
}