{
  "nbformat": 4,
  "nbformat_minor": 0,
  "metadata": {
    "colab": {
      "private_outputs": true,
      "provenance": [],
      "authorship_tag": "ABX9TyPAs981hZ/jzb+1OyAQgUkF",
      "include_colab_link": true
    },
    "kernelspec": {
      "name": "python3",
      "display_name": "Python 3"
    },
    "language_info": {
      "name": "python"
    }
  },
  "cells": [
    {
      "cell_type": "markdown",
      "metadata": {
        "id": "view-in-github",
        "colab_type": "text"
      },
      "source": [
        "<a href=\"https://colab.research.google.com/github/erdemust/xulia/blob/master/ascii1.ipynb\" target=\"_parent\"><img src=\"https://colab.research.google.com/assets/colab-badge.svg\" alt=\"Open In Colab\"/></a>"
      ]
    },
    {
      "cell_type": "code",
      "source": [],
      "metadata": {
        "id": "3B0K5bO2C7LY"
      },
      "execution_count": null,
      "outputs": []
    },
    {
      "cell_type": "code",
      "execution_count": null,
      "metadata": {
        "id": "JZ8CYRjmCZXx"
      },
      "outputs": [],
      "source": [
        "import PIL.Image\n",
        "ASCII_CHARS = [\"@\", \"#\", \"＄\", \"%\", \"?\", \"*\", \"+\", \";\", \":\", \",\", \".\"]\n",
        "def to_greyscale(image):\n",
        "    return image.convert(\"L\")\n",
        "def resize(image, new_width = 50):\n",
        "    old_width, old_height = image.size\n",
        "    new_height = new_width * old_height // old_width\n",
        "    return image.resize((new_width, new_height))\n",
        "def pixel_to_ascii(image):\n",
        "    pixels = image.getdata()\n",
        "    ascii_str = \"\";\n",
        "    for pixel in pixels:\n",
        "        ascii_str += ASCII_CHARS[pixel//25];\n",
        "    return ascii_str\n",
        "\n",
        "def main():\n",
        "    path = \"/content/download.png\"\n",
        "    try:\n",
        "        image = PIL.Image.open(path)\n",
        "    except:\n",
        "        print(path, \"Unable to find image \")\n",
        "    resize(image)\n",
        "    #image = resize(image);\n",
        "    #convert image to greyscale image\n",
        "    greyscale_image = to_greyscale(image)\n",
        "    # convert greyscale image to ascii characters\n",
        "    ascii_str = pixel_to_ascii(greyscale_image)\n",
        "    img_width = greyscale_image.width\n",
        "    ascii_str_len = len(ascii_str)\n",
        "    ascii_img=\"\"\n",
        "    #Split the string based on width  of the image\n",
        "    for i in range(0, ascii_str_len, img_width):\n",
        "        ascii_img += ascii_str[i:i+img_width] + \"\\n\"\n",
        "    #save the string to a file\n",
        "    with open(\"ascii_image.txt\", \"w\") as f:\n",
        "        f.write(ascii_img);\n",
        "main()"
      ]
    },
    {
      "cell_type": "code",
      "source": [],
      "metadata": {
        "id": "lpQKIEWZE1a6"
      },
      "execution_count": null,
      "outputs": []
    },
    {
      "cell_type": "code",
      "source": [],
      "metadata": {
        "id": "JCKSrzvSC5nu"
      },
      "execution_count": null,
      "outputs": []
    }
  ]
}