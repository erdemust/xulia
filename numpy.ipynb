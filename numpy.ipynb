{
  "nbformat": 4,
  "nbformat_minor": 0,
  "metadata": {
    "colab": {
      "private_outputs": true,
      "provenance": [],
      "authorship_tag": "ABX9TyOONdnpS6ELJFTyVvw1siB/",
      "include_colab_link": true
    },
    "kernelspec": {
      "name": "python3",
      "display_name": "Python 3"
    },
    "language_info": {
      "name": "python"
    }
  },
  "cells": [
    {
      "cell_type": "markdown",
      "metadata": {
        "id": "view-in-github",
        "colab_type": "text"
      },
      "source": [
        "<a href=\"https://colab.research.google.com/github/erdemust/xulia/blob/master/numpy.ipynb\" target=\"_parent\"><img src=\"https://colab.research.google.com/assets/colab-badge.svg\" alt=\"Open In Colab\"/></a>"
      ]
    },
    {
      "cell_type": "code",
      "execution_count": null,
      "metadata": {
        "id": "leVlmpEXxX1i"
      },
      "outputs": [],
      "source": [
        "if 5 > 2:\n",
        "    print(\"Five is greater than two!\") \n",
        "    print(\"Five is greater than two!\")\n"
      ]
    },
    {
      "cell_type": "markdown",
      "source": [
        "tab aralığı eşit olmalı"
      ],
      "metadata": {
        "id": "VAOCuOBdxpmS"
      }
    },
    {
      "cell_type": "code",
      "source": [
        "a = 4\n",
        "A = \"Salı \"\n",
        "\n",
        "print(a)\n",
        "print(A)\n",
        "a*A"
      ],
      "metadata": {
        "id": "mOiFWgmSxxBf"
      },
      "execution_count": null,
      "outputs": []
    },
    {
      "cell_type": "markdown",
      "source": [
        "aşort1"
      ],
      "metadata": {
        "id": "ZuvBa8YPye3w"
      }
    },
    {
      "cell_type": "markdown",
      "source": [
        "type()\n",
        "değişken türünü belirtir"
      ],
      "metadata": {
        "id": "65fGRGZwywgf"
      }
    },
    {
      "cell_type": "code",
      "source": [
        "x = 3\n",
        "print(type(x)) # Prints \"<class 'int'>\"\n",
        "print(x)       # Prints \"3\"\n",
        "print(x + 1)   # Addition; prints \"4\"\n",
        "print(x - 1)   # Subtraction; prints \"2\"\n",
        "print(x * 2)   # Multiplication; prints \"6\"\n",
        "print(x ** 2)  # Exponentiation; prints \"9\"\n",
        "x += 1\n",
        "print(x)  # Prints \"4\"\n",
        "x *= 2\n",
        "print(x)  # Prints \"8\"\n",
        "y = 2.5\n",
        "print(type(y)) # Prints \"<class 'float'>\"\n",
        "print(y, y + 1, y * 2, y ** 2) # Prints \"2.5 3.5 5.0 6.25\""
      ],
      "metadata": {
        "id": "JwEi8xcDydRQ"
      },
      "execution_count": null,
      "outputs": []
    },
    {
      "cell_type": "code",
      "source": [],
      "metadata": {
        "id": "XUQWChD7zhbY"
      },
      "execution_count": null,
      "outputs": []
    },
    {
      "cell_type": "markdown",
      "source": [
        "oglum metin x= x+1 ile x += 1 aynıdır"
      ],
      "metadata": {
        "id": "yKUlMBN6y_bQ"
      }
    },
    {
      "cell_type": "markdown",
      "source": [
        "string ile integer çarpılırsa sayı kadar yazı yasar"
      ],
      "metadata": {
        "id": "fYWdgM7rx71Q"
      }
    },
    {
      "cell_type": "code",
      "source": [
        "t = True\n",
        "f = False\n",
        "print(type(t)) # Prints \"<class 'bool'>\"\n",
        "print(t and f) # Logical AND; prints \"False\"\n",
        "print(t or f)  # Logical OR; prints \"True\"\n",
        "print(not t)   # Logical NOT; prints \"False\"\n",
        "print(t != f)  # Logical XOR; prints \"True\""
      ],
      "metadata": {
        "id": "w_IeEA4MzjE_"
      },
      "execution_count": null,
      "outputs": []
    },
    {
      "cell_type": "markdown",
      "source": [
        "0 v 0 0\n",
        "0 v 1 0\n",
        "1 v 0 0\n",
        "1 v 1 1\n",
        "\n",
        "0 y 0 0\n",
        "0 y 1 1 \n",
        "1 y 0 1\n",
        "1 y 1 1"
      ],
      "metadata": {
        "id": "LBrRuZCZz1dA"
      }
    },
    {
      "cell_type": "code",
      "source": [
        "hello = 'slm'    # String literals can use single quotes\n",
        "world = \"dunya\"    # or double quotes; it does not matter.\n",
        "print(hello)       # Prints \"hello\"\n",
        "print(len(hello))  # String length; prints \"5\"\n",
        "hw = hello + ' ' + world  # String concatenation\n",
        "print(hw)  # prints \"hello world\"\n",
        "hw12 = '%s %s %d' % (hello, world, 12)  # sprintf style string formatting\n",
        "print(hw12)  # prints \"hello world 12\"\n",
        " "
      ],
      "metadata": {
        "id": "KpZDk5ZL0e7g"
      },
      "execution_count": null,
      "outputs": []
    },
    {
      "cell_type": "code",
      "source": [
        "for i in range(1,3):\n",
        "    print('burası %s cok   %s   %d yer ' % (\"çok\", \"guzel\", i))"
      ],
      "metadata": {
        "id": "RXTiMVB63e1X"
      },
      "execution_count": null,
      "outputs": []
    },
    {
      "cell_type": "markdown",
      "source": [
        "+ ' ' +  stringler arası boşluk vermek için kullanılır"
      ],
      "metadata": {
        "id": "grXn4DzU0u4X"
      }
    },
    {
      "cell_type": "markdown",
      "source": [
        "len stringin uzunluğunu belirtir"
      ],
      "metadata": {
        "id": "nHF7IV2a0pi_"
      }
    }
  ]
}