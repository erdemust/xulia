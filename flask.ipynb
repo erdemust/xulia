{
  "nbformat": 4,
  "nbformat_minor": 0,
  "metadata": {
    "colab": {
      "private_outputs": true,
      "provenance": [],
      "authorship_tag": "ABX9TyPQMo26YAjwoPgXjHjLJJKh",
      "include_colab_link": true
    },
    "kernelspec": {
      "name": "python3",
      "display_name": "Python 3"
    },
    "language_info": {
      "name": "python"
    }
  },
  "cells": [
    {
      "cell_type": "markdown",
      "metadata": {
        "id": "view-in-github",
        "colab_type": "text"
      },
      "source": [
        "<a href=\"https://colab.research.google.com/github/erdemust/xulia/blob/master/flask.ipynb\" target=\"_parent\"><img src=\"https://colab.research.google.com/assets/colab-badge.svg\" alt=\"Open In Colab\"/></a>"
      ]
    },
    {
      "cell_type": "code",
      "execution_count": null,
      "metadata": {
        "id": "24HjixTaZmw1"
      },
      "outputs": [],
      "source": [
        "import re\n",
        "from datetime import datetime\n",
        "\n",
        "from flask import Flask\n",
        "\n",
        "app = Flask(__name__)\n",
        "\n",
        "\n",
        "\n",
        "@app.route('/')\n",
        "def hello():\n",
        "    return '<h1>yapay zeka</h1>'\n",
        "\n",
        "@app.route('/ekle/<int:n1>/<int:n2>/')\n",
        "def ekle(n1, n2):\n",
        "    return '<h1>Toplam {} </h1>'.format(n1 + n2)\n",
        "\n",
        "@app.route('/nedir/')\n",
        "def about():\n",
        "    return '<h3>Flask uygulaması.</h3>'\n",
        "\n",
        "@app.route(\"/selam/<name>\")\n",
        "def hello_there(name):\n",
        "    now = datetime.now()\n",
        "    formatted_now = now.strftime(\"%A, %d %B, %Y at %X\")\n",
        "\n",
        "    # Filter the name argument to letters only using regular expressions. URL arguments\n",
        "    # can contain arbitrary text, so we restrict to safe characters only.\n",
        "    match_object = re.match(\"[a-zA-Z]+\", name)\n",
        "\n",
        "    if match_object:\n",
        "        clean_name = match_object.group(0)\n",
        "    else:\n",
        "        clean_name = \"Friend\"\n",
        "\n",
        "    content = \"selam, \" + clean_name + \"  simdi \" + formatted_now\n",
        "    return content"
      ]
    }
  ]
}