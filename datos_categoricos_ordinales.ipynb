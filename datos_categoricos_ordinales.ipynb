{
 "cells": [
  {
   "cell_type": "markdown",
   "metadata": {},
   "source": [
    "@author: Octavio Gutiérrez de Código Máquina \n",
    "\n",
    "URL del canal: https://www.youtube.com/CodigoMaquina \n",
    "\n",
    "URL del video: https://youtu.be/KUEsLv8EaVY\n",
    "\n",
    "<img src=\"imagenes/categoria_datos_categoricos.png\" width=\"980\" align=\"left\">\n",
    "<BR><BR><BR><BR><BR><BR><BR><BR><BR><BR><BR><BR><BR><BR><BR><BR><BR><BR><BR><BR><BR><BR><BR>\n",
    "    \n",
    "<img src=\"imagenes/datos_ordinales.png\" width=\"780\" align=\"left\">\n",
    "<BR><BR><BR><BR><BR><BR><BR><BR><BR><BR><BR><BR><BR><BR><BR><BR><BR><BR><BR><BR><BR><BR><BR><BR><BR>\n"
   ]
  },
  {
   "cell_type": "markdown",
   "metadata": {},
   "source": [
    "<h1 style=\"color:darkblue;\"> Datos categóricos ordinales: <span style=\"color:purple;\">Contexto</span></h1>\n",
    "\n",
    "<h3 style=\"color:blue;\"> ¿Qué tan satisfecho está con el servicio? </h3>\n",
    "<ul>\n",
    "    <li>Muy insatisfecho</li>\n",
    "    <li>Insatisfecho</li>\n",
    "    <li>Neutral</li>\n",
    "    <li>Satisfecho</li>\n",
    "    <li>Muy satisfecho</li>\n",
    "</ul>\n",
    "\n",
    "<h3 style=\"color:blue;\"> ¿Cómo calificaría la calidad de los alimentos? </h3>\n",
    "<ul>\n",
    "    <li>Mala</li>\n",
    "    <li>Buena</li>\n",
    "    <li>Muy buena</li>\n",
    "    <li>Excelente</li>\n",
    "</ul>"
   ]
  },
  {
   "cell_type": "code",
   "execution_count": 1,
   "metadata": {},
   "outputs": [
    {
     "data": {
      "text/html": [
       "<div>\n",
       "<style scoped>\n",
       "    .dataframe tbody tr th:only-of-type {\n",
       "        vertical-align: middle;\n",
       "    }\n",
       "\n",
       "    .dataframe tbody tr th {\n",
       "        vertical-align: top;\n",
       "    }\n",
       "\n",
       "    .dataframe thead th {\n",
       "        text-align: right;\n",
       "    }\n",
       "</style>\n",
       "<table border=\"1\" class=\"dataframe\">\n",
       "  <thead>\n",
       "    <tr style=\"text-align: right;\">\n",
       "      <th></th>\n",
       "      <th>servicio</th>\n",
       "      <th>alimentos</th>\n",
       "    </tr>\n",
       "  </thead>\n",
       "  <tbody>\n",
       "    <tr>\n",
       "      <th>0</th>\n",
       "      <td>Muy insatisfecho</td>\n",
       "      <td>Mala</td>\n",
       "    </tr>\n",
       "    <tr>\n",
       "      <th>1</th>\n",
       "      <td>Insatisfecho</td>\n",
       "      <td>Buena</td>\n",
       "    </tr>\n",
       "    <tr>\n",
       "      <th>2</th>\n",
       "      <td>Neutral</td>\n",
       "      <td>Muy buena</td>\n",
       "    </tr>\n",
       "    <tr>\n",
       "      <th>3</th>\n",
       "      <td>Satisfecho</td>\n",
       "      <td>Excelente</td>\n",
       "    </tr>\n",
       "    <tr>\n",
       "      <th>4</th>\n",
       "      <td>Muy satisfecho</td>\n",
       "      <td>Mala</td>\n",
       "    </tr>\n",
       "    <tr>\n",
       "      <th>5</th>\n",
       "      <td>Muy insatisfecho</td>\n",
       "      <td>Buena</td>\n",
       "    </tr>\n",
       "  </tbody>\n",
       "</table>\n",
       "</div>"
      ],
      "text/plain": [
       "           servicio  alimentos\n",
       "0  Muy insatisfecho       Mala\n",
       "1      Insatisfecho      Buena\n",
       "2           Neutral  Muy buena\n",
       "3        Satisfecho  Excelente\n",
       "4    Muy satisfecho       Mala\n",
       "5  Muy insatisfecho      Buena"
      ]
     },
     "execution_count": 1,
     "metadata": {},
     "output_type": "execute_result"
    }
   ],
   "source": [
    "import pandas as pd\n",
    "import numpy as np\n",
    "\n",
    "categorias_servicio = [\"Muy insatisfecho\", \"Insatisfecho\", \n",
    "                       \"Neutral\", \"Satisfecho\", \"Muy satisfecho\"]\n",
    "\n",
    "categorias_calidad = [\"Mala\", \"Buena\", \"Muy buena\", \"Excelente\"]\n",
    "\n",
    "encuesta = {\"servicio\" : [\"Muy insatisfecho\", \"Insatisfecho\",\n",
    "                          \"Neutral\", \"Satisfecho\", \"Muy satisfecho\",\n",
    "                          \"Muy insatisfecho\"],\n",
    "            \n",
    "            \"alimentos\" : [\"Mala\", \"Buena\", \"Muy buena\",\n",
    "                           \"Excelente\", \"Mala\", \"Buena\"]}\n",
    "\n",
    "# 0: cliente esporádico       1: cliente frecuente\n",
    "tipo_cliente = [0, 0, 1, 1, 0, 1] \n",
    "\n",
    "pd.DataFrame(encuesta)"
   ]
  },
  {
   "cell_type": "markdown",
   "metadata": {},
   "source": [
    "<BR><BR><BR><BR><BR><BR><BR><BR><BR><BR><BR><BR><BR><BR><BR><BR><BR><BR><BR><BR><BR><BR><BR><BR><BR><BR><BR><BR><BR>"
   ]
  },
  {
   "cell_type": "markdown",
   "metadata": {},
   "source": [
    "<h1 style=\"color:darkred;\">Codificador Ordinal</h1>\n",
    "<h3 style=\"color:darkblue;\">Evita la maldición de la dimensionalidad, <span style=\"color:purple;\">pero ... </span></h3>\n"
   ]
  },
  {
   "cell_type": "code",
   "execution_count": 2,
   "metadata": {},
   "outputs": [
    {
     "name": "stdout",
     "output_type": "stream",
     "text": [
      "   servicio  alimentacion\n",
      "0       0.0           0.0\n",
      "1       1.0           1.0\n",
      "2       2.0           2.0\n",
      "3       3.0           3.0\n",
      "4       4.0           0.0\n",
      "5       0.0           1.0\n",
      "[array(['Muy insatisfecho', 'Insatisfecho', 'Neutral', 'Satisfecho',\n",
      "       'Muy satisfecho'], dtype=object), array(['Mala', 'Buena', 'Muy buena', 'Excelente'], dtype=object)]\n"
     ]
    }
   ],
   "source": [
    "from sklearn.preprocessing import OrdinalEncoder\n",
    "\n",
    "datos_ord = pd.DataFrame(encuesta)\n",
    "\n",
    "codificador = OrdinalEncoder(categories=[categorias_servicio,\n",
    "                                        categorias_calidad])\n",
    "\n",
    "datos_ord = pd.DataFrame(codificador.fit_transform(datos_ord),\n",
    "                         columns=[\"servicio\", \"alimentacion\"])\n",
    "\n",
    "print(datos_ord)\n",
    "print(codificador.categories_)"
   ]
  },
  {
   "cell_type": "markdown",
   "metadata": {},
   "source": [
    "<BR><BR><BR><BR><BR><BR><BR><BR><BR><BR><BR><BR><BR><BR><BR><BR><BR><BR><BR><BR><BR><BR><BR><BR><BR><BR><BR><BR><BR>"
   ]
  },
  {
   "cell_type": "markdown",
   "metadata": {},
   "source": [
    "<h1 style=\"color:darkred;\"> Codificador OneHotEncoder </h1>"
   ]
  },
  {
   "cell_type": "code",
   "execution_count": 3,
   "metadata": {},
   "outputs": [
    {
     "data": {
      "text/html": [
       "<div>\n",
       "<style scoped>\n",
       "    .dataframe tbody tr th:only-of-type {\n",
       "        vertical-align: middle;\n",
       "    }\n",
       "\n",
       "    .dataframe tbody tr th {\n",
       "        vertical-align: top;\n",
       "    }\n",
       "\n",
       "    .dataframe thead th {\n",
       "        text-align: right;\n",
       "    }\n",
       "</style>\n",
       "<table border=\"1\" class=\"dataframe\">\n",
       "  <thead>\n",
       "    <tr style=\"text-align: right;\">\n",
       "      <th></th>\n",
       "      <th>Insatisfecho</th>\n",
       "      <th>Muy insatisfecho</th>\n",
       "      <th>Muy satisfecho</th>\n",
       "      <th>Neutral</th>\n",
       "      <th>Satisfecho</th>\n",
       "      <th>Buena</th>\n",
       "      <th>Excelente</th>\n",
       "      <th>Mala</th>\n",
       "      <th>Muy buena</th>\n",
       "    </tr>\n",
       "  </thead>\n",
       "  <tbody>\n",
       "    <tr>\n",
       "      <th>0</th>\n",
       "      <td>0.0</td>\n",
       "      <td>1.0</td>\n",
       "      <td>0.0</td>\n",
       "      <td>0.0</td>\n",
       "      <td>0.0</td>\n",
       "      <td>0.0</td>\n",
       "      <td>0.0</td>\n",
       "      <td>1.0</td>\n",
       "      <td>0.0</td>\n",
       "    </tr>\n",
       "    <tr>\n",
       "      <th>1</th>\n",
       "      <td>1.0</td>\n",
       "      <td>0.0</td>\n",
       "      <td>0.0</td>\n",
       "      <td>0.0</td>\n",
       "      <td>0.0</td>\n",
       "      <td>1.0</td>\n",
       "      <td>0.0</td>\n",
       "      <td>0.0</td>\n",
       "      <td>0.0</td>\n",
       "    </tr>\n",
       "    <tr>\n",
       "      <th>2</th>\n",
       "      <td>0.0</td>\n",
       "      <td>0.0</td>\n",
       "      <td>0.0</td>\n",
       "      <td>1.0</td>\n",
       "      <td>0.0</td>\n",
       "      <td>0.0</td>\n",
       "      <td>0.0</td>\n",
       "      <td>0.0</td>\n",
       "      <td>1.0</td>\n",
       "    </tr>\n",
       "    <tr>\n",
       "      <th>3</th>\n",
       "      <td>0.0</td>\n",
       "      <td>0.0</td>\n",
       "      <td>0.0</td>\n",
       "      <td>0.0</td>\n",
       "      <td>1.0</td>\n",
       "      <td>0.0</td>\n",
       "      <td>1.0</td>\n",
       "      <td>0.0</td>\n",
       "      <td>0.0</td>\n",
       "    </tr>\n",
       "    <tr>\n",
       "      <th>4</th>\n",
       "      <td>0.0</td>\n",
       "      <td>0.0</td>\n",
       "      <td>1.0</td>\n",
       "      <td>0.0</td>\n",
       "      <td>0.0</td>\n",
       "      <td>0.0</td>\n",
       "      <td>0.0</td>\n",
       "      <td>1.0</td>\n",
       "      <td>0.0</td>\n",
       "    </tr>\n",
       "    <tr>\n",
       "      <th>5</th>\n",
       "      <td>0.0</td>\n",
       "      <td>1.0</td>\n",
       "      <td>0.0</td>\n",
       "      <td>0.0</td>\n",
       "      <td>0.0</td>\n",
       "      <td>1.0</td>\n",
       "      <td>0.0</td>\n",
       "      <td>0.0</td>\n",
       "      <td>0.0</td>\n",
       "    </tr>\n",
       "  </tbody>\n",
       "</table>\n",
       "</div>"
      ],
      "text/plain": [
       "   Insatisfecho  Muy insatisfecho  Muy satisfecho  Neutral  Satisfecho  Buena  \\\n",
       "0           0.0               1.0             0.0      0.0         0.0    0.0   \n",
       "1           1.0               0.0             0.0      0.0         0.0    1.0   \n",
       "2           0.0               0.0             0.0      1.0         0.0    0.0   \n",
       "3           0.0               0.0             0.0      0.0         1.0    0.0   \n",
       "4           0.0               0.0             1.0      0.0         0.0    0.0   \n",
       "5           0.0               1.0             0.0      0.0         0.0    1.0   \n",
       "\n",
       "   Excelente  Mala  Muy buena  \n",
       "0        0.0   1.0        0.0  \n",
       "1        0.0   0.0        0.0  \n",
       "2        0.0   0.0        1.0  \n",
       "3        1.0   0.0        0.0  \n",
       "4        0.0   1.0        0.0  \n",
       "5        0.0   0.0        0.0  "
      ]
     },
     "execution_count": 3,
     "metadata": {},
     "output_type": "execute_result"
    }
   ],
   "source": [
    "from sklearn.preprocessing import OneHotEncoder\n",
    "\n",
    "datos_one = pd.DataFrame(encuesta)\n",
    "\n",
    "codificador = OneHotEncoder()\n",
    "\n",
    "datos_one = pd.DataFrame(codificador.fit_transform(datos_one).toarray(),\n",
    "                         columns=np.concatenate(codificador.categories_))\n",
    "\n",
    "datos_one"
   ]
  },
  {
   "cell_type": "markdown",
   "metadata": {},
   "source": [
    "<BR><BR><BR><BR><BR><BR><BR><BR><BR><BR><BR><BR><BR><BR><BR><BR><BR><BR><BR><BR><BR><BR><BR><BR><BR><BR><BR><BR><BR>"
   ]
  },
  {
   "cell_type": "markdown",
   "metadata": {},
   "source": [
    "<h1 style=\"color:darkred;\">Comparación de las Codificaciones</h1>\n",
    "<h2 style=\"color:darkblue;\">Clasificador: Regresión Logística </h2>"
   ]
  },
  {
   "cell_type": "code",
   "execution_count": 4,
   "metadata": {},
   "outputs": [
    {
     "name": "stdout",
     "output_type": "stream",
     "text": [
      "\n",
      "*** Datos Escalados de la Codificación Ordinal\n",
      "   servicio  alimentacion\n",
      "0       0.0           0.0\n",
      "1       1.0           1.0\n",
      "2       2.0           2.0\n",
      "3       3.0           3.0\n",
      "4       4.0           0.0\n",
      "5       0.0           1.0\n",
      "[[0.         0.        ]\n",
      " [0.25       0.33333333]\n",
      " [0.5        0.66666667]\n",
      " [0.75       1.        ]\n",
      " [1.         0.        ]\n",
      " [0.         0.33333333]]\n",
      "\n",
      "*** Clasificación con Datos codificados con OrdinalEncoder\n",
      "Predicciones: [0 0 1 1 0 0]\n",
      "Clases correctas: [0, 0, 1, 1, 0, 1]\n",
      "[[0.56489598 0.43510402]\n",
      " [0.50845928 0.49154072]\n",
      " [0.45180614 0.54819386]\n",
      " [0.39637512 0.60362488]\n",
      " [0.57175647 0.42824353]\n",
      " [0.50671189 0.49328811]]\n",
      "\n",
      "*** Clasificación con Datos codificados con OneHotEncoder\n",
      "Predicciones: [0 0 1 1 0 1]\n",
      "Clases correctas: [0, 0, 1, 1, 0, 1]\n",
      "[[0.62301432 0.37698568]\n",
      " [0.57519021 0.42480979]\n",
      " [0.32279763 0.67720237]\n",
      " [0.32279763 0.67720237]\n",
      " [0.70505958 0.29494042]\n",
      " [0.45116842 0.54883158]]\n"
     ]
    }
   ],
   "source": [
    "from sklearn.linear_model import LogisticRegression\n",
    "from sklearn.preprocessing import MinMaxScaler\n",
    "\n",
    "print(\"\\n*** Datos Escalados de la Codificación Ordinal\")\n",
    "escalador = MinMaxScaler()\n",
    "print(datos_ord)\n",
    "datos_ord = escalador.fit_transform(datos_ord)\n",
    "print(datos_ord)\n",
    "\n",
    "print(\"\\n*** Clasificación con Datos codificados con OrdinalEncoder\")\n",
    "modelo = LogisticRegression().fit(datos_ord, tipo_cliente)\n",
    "print(\"Predicciones:\", modelo.predict(datos_ord))\n",
    "print(\"Clases correctas:\", tipo_cliente)\n",
    "print(modelo.predict_proba(datos_ord))\n",
    "\n",
    "print(\"\\n*** Clasificación con Datos codificados con OneHotEncoder\")\n",
    "modelo = LogisticRegression().fit(datos_one, tipo_cliente)\n",
    "print(\"Predicciones:\", modelo.predict(datos_one))\n",
    "print(\"Clases correctas:\", tipo_cliente)\n",
    "print(modelo.predict_proba(datos_one))"
   ]
  },
  {
   "cell_type": "markdown",
   "metadata": {},
   "source": [
    "<BR><BR><BR><BR><BR><BR><BR><BR><BR><BR><BR><BR><BR><BR><BR><BR><BR><BR><BR><BR><BR><BR><BR><BR><BR><BR><BR><BR><BR>"
   ]
  }
 ],
 "metadata": {
  "kernelspec": {
   "display_name": "Python 3 (ipykernel)",
   "language": "python",
   "name": "python3"
  },
  "language_info": {
   "codemirror_mode": {
    "name": "ipython",
    "version": 3
   },
   "file_extension": ".py",
   "mimetype": "text/x-python",
   "name": "python",
   "nbconvert_exporter": "python",
   "pygments_lexer": "ipython3",
   "version": "3.9.7"
  }
 },
 "nbformat": 4,
 "nbformat_minor": 4
}
