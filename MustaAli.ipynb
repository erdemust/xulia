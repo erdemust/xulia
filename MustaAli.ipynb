{
  "nbformat": 4,
  "nbformat_minor": 0,
  "metadata": {
    "colab": {
      "provenance": [],
      "toc_visible": true,
      "include_colab_link": true
    },
    "kernelspec": {
      "name": "python3",
      "display_name": "Python 3"
    },
    "language_info": {
      "name": "python"
    }
  },
  "cells": [
    {
      "cell_type": "markdown",
      "metadata": {
        "id": "view-in-github",
        "colab_type": "text"
      },
      "source": [
        "<a href=\"https://colab.research.google.com/github/erdemust/xulia/blob/master/MustaAli.ipynb\" target=\"_parent\"><img src=\"https://colab.research.google.com/assets/colab-badge.svg\" alt=\"Open In Colab\"/></a>"
      ]
    },
    {
      "cell_type": "markdown",
      "metadata": {
        "id": "XbklHbLw5b5u"
      },
      "source": [
        "# Python, Part III: Loops"
      ]
    },
    {
      "cell_type": "markdown",
      "metadata": {
        "id": "gXLKsMMggL7_"
      },
      "source": [
        "*This Python Notebook is part of a [sequence](http://gr1.me/python-book) authored by [Timothy R James](https://timothyrjames.com/) - feel free to modify, copy, share, or use for your own purposes.*\n",
        "\n",
        "---"
      ]
    },
    {
      "cell_type": "markdown",
      "metadata": {
        "id": "IGk_avFr5hLt"
      },
      "source": [
        "In any programming language, we'll need to be able to iterate. One of the great things about computers is that they can do something over and over again; loops in Python allow us to do just that. We're going to explore the 2 different kinds of loops in Python: ```while``` and ```for```."
      ]
    },
    {
      "cell_type": "markdown",
      "metadata": {
        "id": "-MfrwSz76qRW"
      },
      "source": [
        "## While Loops"
      ]
    },
    {
      "cell_type": "markdown",
      "metadata": {
        "id": "Tr9-mgyz-loX"
      },
      "source": [
        "The simplest loop in Python is the ```while``` loop. While loops work pretty similarly to the way they work in Java. They repeat iteration while some condition continues to be met. The big difference is that we don't use parentheses.\n",
        "\n",
        "In a ```while``` loop, as long as the condition is met, the indented code block will be executed."
      ]
    },
    {
      "cell_type": "code",
      "metadata": {
        "id": "jEd9ZCV36yoI"
      },
      "source": [
        "i = 0\n",
        "while i < 5:\n",
        "    print(i)\n",
        "    # note that Python doesn't have a ++ operator, we have to use +=\n",
        "    i += 1"
      ],
      "execution_count": null,
      "outputs": []
    },
    {
      "cell_type": "markdown",
      "metadata": {
        "id": "IofUV-_iIfFt"
      },
      "source": [
        "Note that a while loop may never execute if the condition is not met on the first evaluation."
      ]
    },
    {
      "cell_type": "code",
      "metadata": {
        "id": "YzWrHarzIfT3"
      },
      "source": [
        "i = 0\n",
        "\n",
        "while i > 0:\n",
        "    print(i)\n",
        "    i += 2"
      ],
      "execution_count": null,
      "outputs": []
    },
    {
      "cell_type": "markdown",
      "metadata": {
        "id": "jpxn4mZs7XYg"
      },
      "source": [
        "## For Loops"
      ]
    },
    {
      "cell_type": "markdown",
      "metadata": {
        "id": "sfSFHSOm-oWc"
      },
      "source": [
        "In Python, we only have a for-each loop. There's no typical C-style ```for (int i = 0; i < X; i++)``` style of loop.\n",
        "\n",
        "Instead of this, we often use loops for iteration over a list, string, or some other structure. For example, in a string, we can iterate over each character in the string, like this:"
      ]
    },
    {
      "cell_type": "code",
      "metadata": {
        "id": "pEiGUawx7Yz6"
      },
      "source": [
        "for letter in 'word':\n",
        "    print(letter)"
      ],
      "execution_count": null,
      "outputs": []
    },
    {
      "cell_type": "markdown",
      "metadata": {
        "id": "k6Mx1NMELGSE"
      },
      "source": [
        "Since we don't have the typical counting ```for``` loop, we need to use the ```range``` function to simulate it."
      ]
    },
    {
      "cell_type": "code",
      "metadata": {
        "id": "I82f3AhTNX34"
      },
      "source": [
        "for i in range(4):\n",
        "    print(i * 10)"
      ],
      "execution_count": null,
      "outputs": []
    },
    {
      "cell_type": "markdown",
      "metadata": {
        "id": "BaCo-wbyNq87"
      },
      "source": [
        "```range``` is a _generator function_ in Python. We'll get more into what that means later; for now, you can just treat as an iterator from values from 0 to N-1 when you call ```range(N)```. \n",
        "\n",
        "If you need to start with a different value than 0, you just use two parameters. The first parameter is the starting value; range will count up to one less than the second value."
      ]
    },
    {
      "cell_type": "code",
      "metadata": {
        "id": "BNasJsRVOBTY"
      },
      "source": [
        "for i in range(10, 16):\n",
        "    print(i)"
      ],
      "execution_count": null,
      "outputs": []
    },
    {
      "cell_type": "markdown",
      "metadata": {
        "id": "bmzyAJXuOZi6"
      },
      "source": [
        "If you want to count in increments other than 1, you can use a third parameter to ```range```; the first parameter will be the starting value, the second parameter is the ending value (again, we don't go up to that value, we terminate one iteration prior) and the third parameter is the increment."
      ]
    },
    {
      "cell_type": "code",
      "metadata": {
        "id": "SbVdZ2jzOnFA"
      },
      "source": [
        "for i in range(20, 80, 5):\n",
        "    print(i)"
      ],
      "execution_count": null,
      "outputs": []
    },
    {
      "cell_type": "markdown",
      "metadata": {
        "id": "uBRuVyBWO0WL"
      },
      "source": [
        "Note that the third parameter doesn't have to be a perfectly even count with the first and second parameters, as you can see below."
      ]
    },
    {
      "cell_type": "code",
      "metadata": {
        "id": "08UAIk_LO-lE"
      },
      "source": [
        "for i in range(12, 61, 19):\n",
        "    print(i)"
      ],
      "execution_count": null,
      "outputs": []
    },
    {
      "cell_type": "markdown",
      "metadata": {
        "id": "yiUqnH0cPKJr"
      },
      "source": [
        "To count backwards, you just use a negative third parameter."
      ]
    },
    {
      "cell_type": "code",
      "metadata": {
        "id": "0PXpfiJ4PMuj"
      },
      "source": [
        "for i in range(10, 5, -1):\n",
        "    print(i)"
      ],
      "execution_count": null,
      "outputs": []
    },
    {
      "cell_type": "markdown",
      "metadata": {
        "id": "pdlsc0RDPSed"
      },
      "source": [
        "We can embed loops as well, and mix in ```if``` statements, as in the example below that prints prime numbers."
      ]
    },
    {
      "cell_type": "code",
      "metadata": {
        "id": "_TffOGeTPUlz"
      },
      "source": [
        "for i in range(2, 40):\n",
        "    is_prime = True\n",
        "    for v in range(i - 1, 1, -1):\n",
        "        if i % v == 0:\n",
        "            is_prime = False\n",
        "    if is_prime:\n",
        "        print(i)\n",
        "  "
      ],
      "execution_count": null,
      "outputs": []
    },
    {
      "cell_type": "markdown",
      "metadata": {
        "id": "sZZIz4ks7ZaR"
      },
      "source": [
        "## Break and Continue"
      ]
    },
    {
      "cell_type": "markdown",
      "metadata": {
        "id": "-G_jP9VbQr93"
      },
      "source": [
        "Python supports ```break``` and ```continue``` statements like Java. Our previous example can be made more efficient through the use of a ```break``` statement, which will terminate the current loop, but allow the outer loop to continue iterating."
      ]
    },
    {
      "cell_type": "code",
      "metadata": {
        "id": "HLTMs0aw7cFE"
      },
      "source": [
        "for i in range(2, 40):\n",
        "    is_prime = True\n",
        "    for v in range(i - 1, 1, -1):\n",
        "        if i % v == 0:\n",
        "            is_prime = False\n",
        "            break\n",
        "    if is_prime:\n",
        "        print(i)"
      ],
      "execution_count": null,
      "outputs": []
    },
    {
      "cell_type": "markdown",
      "metadata": {
        "id": "O-sh6G3dRSgn"
      },
      "source": [
        "```continue``` can also be used to skip to the end of the current loop iteration, and move to the next loop iteration."
      ]
    },
    {
      "cell_type": "code",
      "metadata": {
        "id": "uaQ86raORcoT"
      },
      "source": [
        "for i in range(35):\n",
        "    if i % 2 == 0 or i % 3 == 0 or i % 5 == 0 or i % 7 == 0:\n",
        "        continue\n",
        "    print(i)"
      ],
      "execution_count": null,
      "outputs": []
    },
    {
      "cell_type": "markdown",
      "metadata": {
        "id": "2AX-JQu07chM"
      },
      "source": [
        "## Else in Loops"
      ]
    },
    {
      "cell_type": "markdown",
      "metadata": {
        "id": "PcfZmvMQR3Ph"
      },
      "source": [
        "It's not very useful in practice, but Python allows you to use ```else``` with a loop. It executes when the condition is no longer met."
      ]
    },
    {
      "cell_type": "code",
      "metadata": {
        "id": "Bq77xl4q7fLG"
      },
      "source": [
        "p = 2\n",
        "while p > -3:\n",
        "    print(\"We're iterating.\")\n",
        "    p -= 1\n",
        "else:\n",
        "    print(\"We're not iterating anymore.\")"
      ],
      "execution_count": null,
      "outputs": []
    },
    {
      "cell_type": "markdown",
      "metadata": {
        "id": "DCk2vMA-SxhN"
      },
      "source": [
        "The ```else``` block will only execute if we end the loop, though. A ```break``` statement will prevent it from running."
      ]
    },
    {
      "cell_type": "code",
      "metadata": {
        "id": "kjri1g0SS4eP"
      },
      "source": [
        "p = 3\n",
        "while p > -3:\n",
        "    print(\"We're iterating.\")\n",
        "    p -= 1\n",
        "    if p == 0:\n",
        "        break\n",
        "else:\n",
        "    print(\"We're not iterating anymore.\")"
      ],
      "execution_count": null,
      "outputs": []
    },
    {
      "cell_type": "markdown",
      "metadata": {
        "id": "H4DYMxfoTPGv"
      },
      "source": [
        "It also works with ```for``` loops."
      ]
    },
    {
      "cell_type": "code",
      "metadata": {
        "id": "0keqySQmTSeb"
      },
      "source": [
        "s = 'text'\n",
        "for c in s:\n",
        "    print(c.upper())\n",
        "else:\n",
        "    print(\"That's all!\")"
      ],
      "execution_count": null,
      "outputs": []
    },
    {
      "cell_type": "markdown",
      "metadata": {
        "id": "3j5NnqEzS_Y_"
      },
      "source": [
        "# You Try!"
      ]
    },
    {
      "cell_type": "markdown",
      "metadata": {
        "id": "WyQD3xdEUeVl"
      },
      "source": [
        "Can you use loops to print all even numbers between 0 and 50?"
      ]
    },
    {
      "cell_type": "code",
      "metadata": {
        "id": "NGO_oZ4QUh-e"
      },
      "source": [],
      "execution_count": null,
      "outputs": []
    },
    {
      "cell_type": "markdown",
      "metadata": {
        "id": "iCV8WMm4TCZV"
      },
      "source": [
        "Can you use loops to write code that will print all of the prime numbers between 500 and 800, in reverse order?"
      ]
    },
    {
      "cell_type": "code",
      "metadata": {
        "id": "aC29fYIiTBqQ"
      },
      "source": [],
      "execution_count": null,
      "outputs": []
    },
    {
      "cell_type": "markdown",
      "metadata": {
        "id": "cOtExLGLMtJS"
      },
      "source": [
        "**Next: [Structures in Python](http://gr1.me/python04)**"
      ]
    }
  ]
}