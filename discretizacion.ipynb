{
 "cells": [
  {
   "cell_type": "markdown",
   "metadata": {},
   "source": [
    "@author: Octavio Gutiérrez de Código Máquina \n",
    "\n",
    "URL del canal: https://www.youtube.com/CodigoMaquina \n",
    "\n",
    "URL del video: https://youtu.be/26wA0ChTffc"
   ]
  },
  {
   "cell_type": "markdown",
   "metadata": {},
   "source": [
    "<h1 style=\"color:purple\">Discretización / Categorización</h1>\n",
    "<h2 style=\"color:indianred\">Contenedores del mismo tamaño</h2>"
   ]
  },
  {
   "cell_type": "code",
   "execution_count": 1,
   "metadata": {},
   "outputs": [
    {
     "name": "stdout",
     "output_type": "stream",
     "text": [
      "[  0.901  34.     67.    100.   ] \n",
      "\n",
      "[0 0 0 0 0 0 1 1 1 2 2 2] \n",
      "\n",
      "Index(['baja', 'media', 'alta'], dtype='object') \n",
      "\n",
      "['baja' 'baja' 'baja' 'baja' 'baja' 'baja' 'media' 'media' 'media' 'alta'\n",
      " 'alta' 'alta']\n"
     ]
    }
   ],
   "source": [
    "import numpy as np\n",
    "import pandas as pd\n",
    "\n",
    "edades = np.array([1, 7, 8, 15, 16, 28, 35, 50, 55, 70, 75, 100])\n",
    "\n",
    "resultado = pd.cut(edades, \n",
    "                   bins=3, \n",
    "                   labels=[\"baja\", \"media\", \"alta\"],\n",
    "                   include_lowest=True,\n",
    "                   retbins=True)\n",
    "\n",
    "#class 'pandas.core.arrays.categorical.Categorical'\n",
    "\n",
    "print(resultado[1],\"\\n\")\n",
    "print(resultado[0].codes, \"\\n\")\n",
    "print(resultado[0].categories, \"\\n\")\n",
    "print(np.array(resultado[0]))"
   ]
  },
  {
   "cell_type": "markdown",
   "metadata": {},
   "source": [
    "<br> <br> <br> <br> <br> <br> <br>\n",
    "\n",
    "<h1 style=\"color:purple\">Discretización / Categorización</h1>\n",
    "<h2 style=\"color:indianred\">Contenedores a la medida</h2>"
   ]
  },
  {
   "cell_type": "code",
   "execution_count": 2,
   "metadata": {},
   "outputs": [
    {
     "name": "stdout",
     "output_type": "stream",
     "text": [
      "[ 0. 11. 17. 59. inf] \n",
      "\n",
      "[0 0 0 1 1 2 2 2 2 3 3 3] \n",
      "\n",
      "Index(['infante', 'joven', 'adulto', 'mayor'], dtype='object') \n",
      "\n",
      "['infante' 'infante' 'infante' 'joven' 'joven' 'adulto' 'adulto' 'adulto'\n",
      " 'adulto' 'mayor' 'mayor' 'mayor']\n"
     ]
    }
   ],
   "source": [
    "edades = np.array([1, 7, 8, 15, 16, 28, 35, 50, 55, 70, 75, 100])\n",
    "\n",
    "resultado = pd.cut(edades, \n",
    "                   bins=[0, 11, 17, 59, np.inf], \n",
    "                   labels=[\"infante\", \"joven\", \"adulto\", \"mayor\"],\n",
    "                   include_lowest=True,\n",
    "                   retbins=True)\n",
    "\n",
    "print(resultado[1],\"\\n\")\n",
    "print(resultado[0].codes, \"\\n\")\n",
    "print(resultado[0].categories, \"\\n\")\n",
    "print(np.array(resultado[0]))"
   ]
  }
 ],
 "metadata": {
  "kernelspec": {
   "display_name": "Python 3 (ipykernel)",
   "language": "python",
   "name": "python3"
  },
  "language_info": {
   "codemirror_mode": {
    "name": "ipython",
    "version": 3
   },
   "file_extension": ".py",
   "mimetype": "text/x-python",
   "name": "python",
   "nbconvert_exporter": "python",
   "pygments_lexer": "ipython3",
   "version": "3.9.7"
  }
 },
 "nbformat": 4,
 "nbformat_minor": 4
}
