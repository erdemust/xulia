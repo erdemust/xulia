{
 "cells": [
  {
   "cell_type": "markdown",
   "metadata": {},
   "source": [
    "@author: Octavio Gutiérrez de Código Máquina\n",
    "\n",
    "URL del canal: https://www.youtube.com/CodigoMaquina\n",
    "\n",
    "URL del video: https://youtu.be/PFn31_hzQ2Y \n",
    "\n",
    "<img src=\"imagenes/basketball.jpg\" width=\"800\" align=\"center\">\n"
   ]
  },
  {
   "cell_type": "markdown",
   "metadata": {},
   "source": [
    "# Contexto y Datos"
   ]
  },
  {
   "cell_type": "code",
   "execution_count": 1,
   "metadata": {
    "scrolled": false
   },
   "outputs": [],
   "source": [
    "import pandas as pd\n",
    "\n",
    "puntos_partido = pd.Series([\"alto\", \"bajo\", \"alto\", \"alto\", \"alto\",\n",
    "                            \"alto\", \"bajo\", \"alto\", \"alto\", \"bajo\"])\n",
    "\n",
    "minutos_partido = pd.Series([\"alto\", \"alto\", \"bajo\", \"bajo\", \"bajo\",\n",
    "                             \"alto\", \"bajo\", \"bajo\", \"bajo\", \"alto\"])\n",
    "\n",
    "rebotes_partido = pd.Series([\"alto\", \"bajo\", \"bajo\", \"alto\", \"bajo\",\n",
    "                             \"alto\", \"bajo\", \"alto\", \"bajo\", \"alto\"])\n",
    "\n",
    "asistencias_partido = pd.Series([\"bajo\", \"bajo\", \"bajo\", \"bajo\", \"bajo\",\n",
    "                                 \"bajo\", \"bajo\", \"bajo\", \"bajo\", \"bajo\"])\n",
    "\n",
    "# 1: Veterano (carrera de cinco años o más)\n",
    "clase = pd.Series([1, 0, 0, 1, 0, 1, 0, 1, 0, 1])\n",
    "\n",
    "datos = pd.DataFrame({\"puntos\": puntos_partido,\n",
    "                      \"minutos\": minutos_partido,\n",
    "                      \"asistencias\": asistencias_partido,\n",
    "                      \"rebotes\": rebotes_partido,                      \n",
    "                      \"clase\": clase})"
   ]
  },
  {
   "cell_type": "markdown",
   "metadata": {},
   "source": [
    "<BR><BR><BR><BR><BR><BR><BR><BR><BR><BR><BR><BR><BR><BR><BR><BR><BR><BR><BR><BR><BR><BR><BR><BR><BR>"
   ]
  },
  {
   "cell_type": "markdown",
   "metadata": {},
   "source": [
    "# Interpretación de la Impureza GINI"
   ]
  },
  {
   "cell_type": "code",
   "execution_count": 2,
   "metadata": {
    "scrolled": false
   },
   "outputs": [
    {
     "name": "stdout",
     "output_type": "stream",
     "text": [
      "puntos -> impureza: 0.4762\n",
      "minutos -> impureza: 0.4167\n",
      "asistencias -> impureza: 0.5000\n",
      "rebotes -> impureza: 0.0000\n"
     ]
    },
    {
     "data": {
      "text/html": [
       "<div>\n",
       "<style scoped>\n",
       "    .dataframe tbody tr th:only-of-type {\n",
       "        vertical-align: middle;\n",
       "    }\n",
       "\n",
       "    .dataframe tbody tr th {\n",
       "        vertical-align: top;\n",
       "    }\n",
       "\n",
       "    .dataframe thead th {\n",
       "        text-align: right;\n",
       "    }\n",
       "</style>\n",
       "<table border=\"1\" class=\"dataframe\">\n",
       "  <thead>\n",
       "    <tr style=\"text-align: right;\">\n",
       "      <th></th>\n",
       "      <th>puntos</th>\n",
       "      <th>minutos</th>\n",
       "      <th>asistencias</th>\n",
       "      <th>rebotes</th>\n",
       "      <th>clase</th>\n",
       "    </tr>\n",
       "  </thead>\n",
       "  <tbody>\n",
       "    <tr>\n",
       "      <th>0</th>\n",
       "      <td>alto</td>\n",
       "      <td>alto</td>\n",
       "      <td>bajo</td>\n",
       "      <td>alto</td>\n",
       "      <td>1</td>\n",
       "    </tr>\n",
       "    <tr>\n",
       "      <th>1</th>\n",
       "      <td>bajo</td>\n",
       "      <td>alto</td>\n",
       "      <td>bajo</td>\n",
       "      <td>bajo</td>\n",
       "      <td>0</td>\n",
       "    </tr>\n",
       "    <tr>\n",
       "      <th>2</th>\n",
       "      <td>alto</td>\n",
       "      <td>bajo</td>\n",
       "      <td>bajo</td>\n",
       "      <td>bajo</td>\n",
       "      <td>0</td>\n",
       "    </tr>\n",
       "    <tr>\n",
       "      <th>3</th>\n",
       "      <td>alto</td>\n",
       "      <td>bajo</td>\n",
       "      <td>bajo</td>\n",
       "      <td>alto</td>\n",
       "      <td>1</td>\n",
       "    </tr>\n",
       "    <tr>\n",
       "      <th>4</th>\n",
       "      <td>alto</td>\n",
       "      <td>bajo</td>\n",
       "      <td>bajo</td>\n",
       "      <td>bajo</td>\n",
       "      <td>0</td>\n",
       "    </tr>\n",
       "    <tr>\n",
       "      <th>5</th>\n",
       "      <td>alto</td>\n",
       "      <td>alto</td>\n",
       "      <td>bajo</td>\n",
       "      <td>alto</td>\n",
       "      <td>1</td>\n",
       "    </tr>\n",
       "    <tr>\n",
       "      <th>6</th>\n",
       "      <td>bajo</td>\n",
       "      <td>bajo</td>\n",
       "      <td>bajo</td>\n",
       "      <td>bajo</td>\n",
       "      <td>0</td>\n",
       "    </tr>\n",
       "    <tr>\n",
       "      <th>7</th>\n",
       "      <td>alto</td>\n",
       "      <td>bajo</td>\n",
       "      <td>bajo</td>\n",
       "      <td>alto</td>\n",
       "      <td>1</td>\n",
       "    </tr>\n",
       "    <tr>\n",
       "      <th>8</th>\n",
       "      <td>alto</td>\n",
       "      <td>bajo</td>\n",
       "      <td>bajo</td>\n",
       "      <td>bajo</td>\n",
       "      <td>0</td>\n",
       "    </tr>\n",
       "    <tr>\n",
       "      <th>9</th>\n",
       "      <td>bajo</td>\n",
       "      <td>alto</td>\n",
       "      <td>bajo</td>\n",
       "      <td>alto</td>\n",
       "      <td>1</td>\n",
       "    </tr>\n",
       "  </tbody>\n",
       "</table>\n",
       "</div>"
      ],
      "text/plain": [
       "  puntos minutos asistencias rebotes  clase\n",
       "0   alto    alto        bajo    alto      1\n",
       "1   bajo    alto        bajo    bajo      0\n",
       "2   alto    bajo        bajo    bajo      0\n",
       "3   alto    bajo        bajo    alto      1\n",
       "4   alto    bajo        bajo    bajo      0\n",
       "5   alto    alto        bajo    alto      1\n",
       "6   bajo    bajo        bajo    bajo      0\n",
       "7   alto    bajo        bajo    alto      1\n",
       "8   alto    bajo        bajo    bajo      0\n",
       "9   bajo    alto        bajo    alto      1"
      ]
     },
     "execution_count": 2,
     "metadata": {},
     "output_type": "execute_result"
    }
   ],
   "source": [
    "def impureza_gini(caracteristica, clase, datos):\n",
    "    \"\"\"str, str, DataFrame -> float\"\"\"    \n",
    "    atributo_clase = datos.groupby([caracteristica, clase])[clase].count()\n",
    "    atributo = datos.groupby([caracteristica])[clase].count()\n",
    "    procesados = pd.merge(atributo_clase, atributo, on=[caracteristica], \n",
    "                          suffixes=('_individual', '_total')) \n",
    "    procesados[\"combinacion\"] = (procesados[clase+\"_individual\"]/\n",
    "                                 procesados[clase+\"_total\"])**2\n",
    "    gini_combinacion = 1 - procesados.groupby([caracteristica, clase+\"_total\"])[\"combinacion\"].sum()\n",
    "    gini_pesado = (gini_combinacion * atributo) / atributo.sum() \n",
    "    return gini_pesado.sum()\n",
    "\n",
    "\n",
    "print(\"puntos -> impureza: %0.4f\" % impureza_gini(\"puntos\", \"clase\", datos))\n",
    "print(\"minutos -> impureza: %0.4f\" % impureza_gini(\"minutos\", \"clase\", datos))\n",
    "print(\"asistencias -> impureza: %0.4f\" % impureza_gini(\"asistencias\", \"clase\", datos))\n",
    "print(\"rebotes -> impureza: %0.4f\" % impureza_gini(\"rebotes\", \"clase\", datos)) \n",
    "\n",
    "datos"
   ]
  },
  {
   "cell_type": "markdown",
   "metadata": {},
   "source": [
    "<BR><BR><BR><BR><BR><BR><BR><BR><BR><BR><BR><BR><BR><BR><BR><BR><BR><BR><BR><BR><BR><BR><BR><BR><BR>"
   ]
  },
  {
   "cell_type": "markdown",
   "metadata": {},
   "source": [
    "# Impureza del atributo 'puntos'"
   ]
  },
  {
   "cell_type": "code",
   "execution_count": 3,
   "metadata": {
    "scrolled": false
   },
   "outputs": [
    {
     "name": "stdout",
     "output_type": "stream",
     "text": [
      "\n",
      "\n",
      "JUGADORES POR PUNTOS Y CLASE\n",
      "\n",
      " puntos  clase\n",
      "alto    0        3\n",
      "        1        4\n",
      "bajo    0        2\n",
      "        1        1\n",
      "Name: clase, dtype: int64\n",
      "\n",
      "\n",
      "JUGADORES POR PUNTOS\n",
      "\n",
      " puntos\n",
      "alto    7\n",
      "bajo    3\n",
      "Name: clase, dtype: int64\n",
      "\n",
      "\n",
      "UNION\n",
      "\n",
      "         clase_indivual  clase_total\n",
      "puntos                             \n",
      "alto                 3            7\n",
      "alto                 4            7\n",
      "bajo                 2            3\n",
      "bajo                 1            3\n"
     ]
    }
   ],
   "source": [
    "# Cuántos jugadores por categoría de puntos y por clase (novato o veterano)\n",
    "puntos_y_clase = datos.groupby([\"puntos\", \"clase\"])[\"clase\"].count()\n",
    "\n",
    "print(\"\\n\\nJUGADORES POR PUNTOS Y CLASE\\n\\n\", puntos_y_clase)\n",
    "\n",
    "# Cuántos jugadores por categoría de puntos \n",
    "puntos = datos.groupby([\"puntos\"])[\"clase\"].count()\n",
    "\n",
    "print(\"\\n\\nJUGADORES POR PUNTOS\\n\\n\", puntos)\n",
    "\n",
    "# Unir ambas series de datos para procesamiento posterior \n",
    "jugadores = pd.merge(\n",
    "    puntos_y_clase,\n",
    "    puntos,\n",
    "    on=[\"puntos\"], \n",
    "    suffixes=('_indivual', '_total')) \n",
    "\n",
    "print(\"\\n\\nUNION\\n\\n\", jugadores)\n"
   ]
  },
  {
   "cell_type": "markdown",
   "metadata": {},
   "source": [
    "# Cálculo de la Impureza GINI para 'puntos'\n",
    "# \n",
    "\n",
    "<img src=\"imagenes/formula_gini.png\" width=\"325\" align=\"left\">"
   ]
  },
  {
   "cell_type": "code",
   "execution_count": 4,
   "metadata": {
    "scrolled": true
   },
   "outputs": [
    {
     "name": "stdout",
     "output_type": "stream",
     "text": [
      "        clase_indivual  clase_total  combinaciones\n",
      "puntos                                            \n",
      "alto                 3            7       0.183673\n",
      "alto                 4            7       0.326531\n",
      "bajo                 2            3       0.444444\n",
      "bajo                 1            3       0.111111\n",
      "\n",
      "\n",
      " puntos  clase_total\n",
      "alto    7              0.489796\n",
      "bajo    3              0.444444\n",
      "Name: combinaciones, dtype: float64\n",
      "\n",
      "\n",
      " puntos  clase_total\n",
      "alto    7              0.342857\n",
      "bajo    3              0.133333\n",
      "dtype: float64\n",
      "\n",
      " 0.4761904761904763\n"
     ]
    }
   ],
   "source": [
    "# Probabilidad para cada categoría de puntos con respecto a la clase\n",
    "jugadores[\"combinaciones\"] = (jugadores[\"clase_indivual\"]/jugadores[\"clase_total\"])**2\n",
    "print(jugadores)\n",
    "\n",
    "# Impureza gini para cada combinación\n",
    "gini_por_combinacion = 1 - jugadores.groupby([\"puntos\", \"clase_total\"])[\"combinaciones\"].sum()\n",
    "print(\"\\n\\n\",gini_por_combinacion)\n",
    "\n",
    "# Impureza gini para cada combinación con pesos\n",
    "gini_con_peso_por_combinacion = (gini_por_combinacion * puntos) / puntos.sum() \n",
    "print(\"\\n\\n\", gini_con_peso_por_combinacion)\n",
    "print(\"\\n\", gini_con_peso_por_combinacion.sum())\n",
    "\n"
   ]
  },
  {
   "cell_type": "markdown",
   "metadata": {},
   "source": [
    "<BR><BR><BR><BR><BR><BR><BR><BR><BR><BR><BR><BR><BR><BR><BR><BR><BR><BR><BR><BR><BR><BR><BR><BR><BR>"
   ]
  }
 ],
 "metadata": {
  "celltoolbar": "Raw Cell Format",
  "kernelspec": {
   "display_name": "Python 3",
   "language": "python",
   "name": "python3"
  },
  "language_info": {
   "codemirror_mode": {
    "name": "ipython",
    "version": 3
   },
   "file_extension": ".py",
   "mimetype": "text/x-python",
   "name": "python",
   "nbconvert_exporter": "python",
   "pygments_lexer": "ipython3",
   "version": "3.8.5"
  }
 },
 "nbformat": 4,
 "nbformat_minor": 4
}
