{
 "cells": [
  {
   "cell_type": "markdown",
   "metadata": {},
   "source": [
    "@author: Octavio Gutiérrez de Código Máquina\n",
    "\n",
    "URL del canal: https://www.youtube.com/CodigoMaquina\n",
    "\n",
    "URL del video: https://youtu.be/YAfS8-BXp8Q\n",
    "\n",
    "<BR>\n",
    "<h1 style=\"color:purple\" align=\"left\">Ajustar <span style=\"color:blue\">(o Tunear)</span> Hiperparámetros </h1>\n",
    "<img src=\"imagenes/carro_enchulado.jpg\" width=\"520\" align=\"left\">\n",
    "<BR><BR>\n",
    "<h2 style=\"color:blak\">Contexto y Datos</h2>"
   ]
  },
  {
   "cell_type": "code",
   "execution_count": 1,
   "metadata": {},
   "outputs": [
    {
     "data": {
      "text/html": [
       "<div>\n",
       "<style scoped>\n",
       "    .dataframe tbody tr th:only-of-type {\n",
       "        vertical-align: middle;\n",
       "    }\n",
       "\n",
       "    .dataframe tbody tr th {\n",
       "        vertical-align: top;\n",
       "    }\n",
       "\n",
       "    .dataframe thead th {\n",
       "        text-align: right;\n",
       "    }\n",
       "</style>\n",
       "<table border=\"1\" class=\"dataframe\">\n",
       "  <thead>\n",
       "    <tr style=\"text-align: right;\">\n",
       "      <th></th>\n",
       "      <th>edad</th>\n",
       "      <th>estudio</th>\n",
       "      <th>genero</th>\n",
       "      <th>tipo_trabajo</th>\n",
       "      <th>horas</th>\n",
       "      <th>ingreso</th>\n",
       "    </tr>\n",
       "  </thead>\n",
       "  <tbody>\n",
       "    <tr>\n",
       "      <th>0</th>\n",
       "      <td>27</td>\n",
       "      <td>9</td>\n",
       "      <td>0</td>\n",
       "      <td>0</td>\n",
       "      <td>40</td>\n",
       "      <td>0</td>\n",
       "    </tr>\n",
       "    <tr>\n",
       "      <th>1</th>\n",
       "      <td>30</td>\n",
       "      <td>9</td>\n",
       "      <td>0</td>\n",
       "      <td>0</td>\n",
       "      <td>40</td>\n",
       "      <td>0</td>\n",
       "    </tr>\n",
       "    <tr>\n",
       "      <th>2</th>\n",
       "      <td>34</td>\n",
       "      <td>8</td>\n",
       "      <td>0</td>\n",
       "      <td>0</td>\n",
       "      <td>40</td>\n",
       "      <td>0</td>\n",
       "    </tr>\n",
       "    <tr>\n",
       "      <th>3</th>\n",
       "      <td>26</td>\n",
       "      <td>13</td>\n",
       "      <td>0</td>\n",
       "      <td>0</td>\n",
       "      <td>50</td>\n",
       "      <td>0</td>\n",
       "    </tr>\n",
       "    <tr>\n",
       "      <th>4</th>\n",
       "      <td>23</td>\n",
       "      <td>4</td>\n",
       "      <td>1</td>\n",
       "      <td>0</td>\n",
       "      <td>25</td>\n",
       "      <td>0</td>\n",
       "    </tr>\n",
       "    <tr>\n",
       "      <th>...</th>\n",
       "      <td>...</td>\n",
       "      <td>...</td>\n",
       "      <td>...</td>\n",
       "      <td>...</td>\n",
       "      <td>...</td>\n",
       "      <td>...</td>\n",
       "    </tr>\n",
       "    <tr>\n",
       "      <th>95</th>\n",
       "      <td>32</td>\n",
       "      <td>13</td>\n",
       "      <td>1</td>\n",
       "      <td>0</td>\n",
       "      <td>55</td>\n",
       "      <td>1</td>\n",
       "    </tr>\n",
       "    <tr>\n",
       "      <th>96</th>\n",
       "      <td>20</td>\n",
       "      <td>10</td>\n",
       "      <td>0</td>\n",
       "      <td>0</td>\n",
       "      <td>25</td>\n",
       "      <td>0</td>\n",
       "    </tr>\n",
       "    <tr>\n",
       "      <th>97</th>\n",
       "      <td>46</td>\n",
       "      <td>3</td>\n",
       "      <td>0</td>\n",
       "      <td>0</td>\n",
       "      <td>40</td>\n",
       "      <td>0</td>\n",
       "    </tr>\n",
       "    <tr>\n",
       "      <th>98</th>\n",
       "      <td>37</td>\n",
       "      <td>9</td>\n",
       "      <td>1</td>\n",
       "      <td>0</td>\n",
       "      <td>45</td>\n",
       "      <td>0</td>\n",
       "    </tr>\n",
       "    <tr>\n",
       "      <th>99</th>\n",
       "      <td>47</td>\n",
       "      <td>9</td>\n",
       "      <td>1</td>\n",
       "      <td>0</td>\n",
       "      <td>12</td>\n",
       "      <td>0</td>\n",
       "    </tr>\n",
       "  </tbody>\n",
       "</table>\n",
       "<p>100 rows × 6 columns</p>\n",
       "</div>"
      ],
      "text/plain": [
       "    edad  estudio  genero  tipo_trabajo  horas  ingreso\n",
       "0     27        9       0             0     40        0\n",
       "1     30        9       0             0     40        0\n",
       "2     34        8       0             0     40        0\n",
       "3     26       13       0             0     50        0\n",
       "4     23        4       1             0     25        0\n",
       "..   ...      ...     ...           ...    ...      ...\n",
       "95    32       13       1             0     55        1\n",
       "96    20       10       0             0     25        0\n",
       "97    46        3       0             0     40        0\n",
       "98    37        9       1             0     45        0\n",
       "99    47        9       1             0     12        0\n",
       "\n",
       "[100 rows x 6 columns]"
      ]
     },
     "execution_count": 1,
     "metadata": {},
     "output_type": "execute_result"
    }
   ],
   "source": [
    "import pandas as pd \n",
    "\n",
    "personas = pd.read_csv(\"ingresos.csv\")\n",
    "personas"
   ]
  },
  {
   "cell_type": "markdown",
   "metadata": {},
   "source": [
    "<BR><BR><BR><BR><BR><BR><BR><BR><BR><BR><BR><BR><BR><BR><BR><BR><BR><BR><BR>\n",
    "<h2 style=\"color:purple\">Estimador: <span style=\"color:blue\"> Bosque Aleatorio (clasificación)</span></h2>"
   ]
  },
  {
   "cell_type": "code",
   "execution_count": 2,
   "metadata": {},
   "outputs": [
    {
     "data": {
      "text/plain": [
       "{'bootstrap': True,\n",
       " 'ccp_alpha': 0.0,\n",
       " 'class_weight': None,\n",
       " 'criterion': 'gini',\n",
       " 'max_depth': None,\n",
       " 'max_features': 'auto',\n",
       " 'max_leaf_nodes': None,\n",
       " 'max_samples': None,\n",
       " 'min_impurity_decrease': 0.0,\n",
       " 'min_impurity_split': None,\n",
       " 'min_samples_leaf': 1,\n",
       " 'min_samples_split': 2,\n",
       " 'min_weight_fraction_leaf': 0.0,\n",
       " 'n_estimators': 100,\n",
       " 'n_jobs': None,\n",
       " 'oob_score': False,\n",
       " 'random_state': None,\n",
       " 'verbose': 0,\n",
       " 'warm_start': False}"
      ]
     },
     "execution_count": 2,
     "metadata": {},
     "output_type": "execute_result"
    }
   ],
   "source": [
    "from sklearn.ensemble import RandomForestClassifier\n",
    "\n",
    "bosque = RandomForestClassifier()\n",
    "bosque.get_params()"
   ]
  },
  {
   "cell_type": "markdown",
   "metadata": {},
   "source": [
    "<BR><BR><BR><BR><BR><BR><BR><BR><BR><BR><BR><BR><BR><BR><BR><BR><BR><BR><BR>\n",
    "<h2 style=\"color:purple\">Búsqueda de Cuadrícula <span style=\"color:blue\"> (o Rejilla) </span></h2>\n"
   ]
  },
  {
   "cell_type": "code",
   "execution_count": 3,
   "metadata": {},
   "outputs": [
    {
     "data": {
      "text/plain": [
       "GridSearchCV(estimator=RandomForestClassifier(),\n",
       "             param_grid={'criterion': ('gini', 'entropy'),\n",
       "                         'max_samples': (0.3333333333333333,\n",
       "                                         0.6666666666666666),\n",
       "                         'n_estimators': (10, 20, 30)},\n",
       "             scoring='accuracy')"
      ]
     },
     "execution_count": 3,
     "metadata": {},
     "output_type": "execute_result"
    }
   ],
   "source": [
    "from sklearn.model_selection import GridSearchCV\n",
    "\n",
    "parametros = {\"criterion\": (\"gini\", \"entropy\"),\n",
    "              \"n_estimators\" : (10, 20, 30), \n",
    "              \"max_samples\" : (1/3, 2/3)}\n",
    "\n",
    "#Ejemplos de scoring = \"accuracy\", \"recall\", \"roc_auc\", etc.\n",
    "\n",
    "rejilla = GridSearchCV(bosque, \n",
    "                       parametros, \n",
    "                       scoring=\"accuracy\")\n",
    "\n",
    "rejilla.fit(personas[personas.columns[:-1]].values, \n",
    "            personas[\"ingreso\"].values)"
   ]
  },
  {
   "cell_type": "markdown",
   "metadata": {},
   "source": [
    "<BR><BR><BR><BR><BR><BR><BR><BR><BR><BR><BR><BR><BR><BR><BR><BR><BR><BR><BR>\n",
    "<h2 style=\"color:purple\">Información de la Búsqueda en <span style=\"color:blue\"> Rejilla</span></h2>"
   ]
  },
  {
   "cell_type": "code",
   "execution_count": 4,
   "metadata": {},
   "outputs": [
    {
     "data": {
      "text/plain": [
       "['mean_fit_time',\n",
       " 'mean_score_time',\n",
       " 'mean_test_score',\n",
       " 'param_criterion',\n",
       " 'param_max_samples',\n",
       " 'param_n_estimators',\n",
       " 'params',\n",
       " 'rank_test_score',\n",
       " 'split0_test_score',\n",
       " 'split1_test_score',\n",
       " 'split2_test_score',\n",
       " 'split3_test_score',\n",
       " 'split4_test_score',\n",
       " 'std_fit_time',\n",
       " 'std_score_time',\n",
       " 'std_test_score']"
      ]
     },
     "execution_count": 4,
     "metadata": {},
     "output_type": "execute_result"
    }
   ],
   "source": [
    "sorted(rejilla.cv_results_.keys())"
   ]
  },
  {
   "cell_type": "markdown",
   "metadata": {},
   "source": [
    "<BR><BR><BR><BR><BR><BR><BR><BR><BR><BR><BR><BR><BR><BR><BR><BR><BR><BR><BR>\n",
    "<img src=\"imagenes/cv.png\" width=\"525\" align=\"left\">\n",
    "<BR><BR><BR><BR><BR><BR><BR><BR><BR><BR><BR><BR><BR><BR><BR><BR><BR><BR><BR>\n",
    "<h2 style=\"color:purple\">Rejilla de Parámetros Explorados</h2>"
   ]
  },
  {
   "cell_type": "code",
   "execution_count": 5,
   "metadata": {},
   "outputs": [
    {
     "data": {
      "text/plain": [
       "[{'criterion': 'gini', 'max_samples': 0.3333333333333333, 'n_estimators': 10},\n",
       " {'criterion': 'gini', 'max_samples': 0.3333333333333333, 'n_estimators': 20},\n",
       " {'criterion': 'gini', 'max_samples': 0.3333333333333333, 'n_estimators': 30},\n",
       " {'criterion': 'gini', 'max_samples': 0.6666666666666666, 'n_estimators': 10},\n",
       " {'criterion': 'gini', 'max_samples': 0.6666666666666666, 'n_estimators': 20},\n",
       " {'criterion': 'gini', 'max_samples': 0.6666666666666666, 'n_estimators': 30},\n",
       " {'criterion': 'entropy',\n",
       "  'max_samples': 0.3333333333333333,\n",
       "  'n_estimators': 10},\n",
       " {'criterion': 'entropy',\n",
       "  'max_samples': 0.3333333333333333,\n",
       "  'n_estimators': 20},\n",
       " {'criterion': 'entropy',\n",
       "  'max_samples': 0.3333333333333333,\n",
       "  'n_estimators': 30},\n",
       " {'criterion': 'entropy',\n",
       "  'max_samples': 0.6666666666666666,\n",
       "  'n_estimators': 10},\n",
       " {'criterion': 'entropy',\n",
       "  'max_samples': 0.6666666666666666,\n",
       "  'n_estimators': 20},\n",
       " {'criterion': 'entropy',\n",
       "  'max_samples': 0.6666666666666666,\n",
       "  'n_estimators': 30}]"
      ]
     },
     "execution_count": 5,
     "metadata": {},
     "output_type": "execute_result"
    }
   ],
   "source": [
    "rejilla.cv_results_[\"params\"]"
   ]
  },
  {
   "cell_type": "markdown",
   "metadata": {},
   "source": [
    "<BR><BR><BR><BR><BR><BR><BR><BR><BR><BR><BR><BR><BR><BR><BR><BR><BR><BR><BR>\n",
    "<h2 style=\"color:purple\">Resultados de la Búsqueda en <span style=\"color:blue\"> Rejilla</span></h2>"
   ]
  },
  {
   "cell_type": "code",
   "execution_count": 6,
   "metadata": {},
   "outputs": [
    {
     "name": "stdout",
     "output_type": "stream",
     "text": [
      "[ 1 10  4  6  8 10  4  1  1  9  7 10]\n",
      "[0.81 0.76 0.8  0.79 0.78 0.76 0.8  0.81 0.81 0.77 0.78 0.76]\n",
      "0.8099999999999999\n",
      "{'criterion': 'gini', 'max_samples': 0.3333333333333333, 'n_estimators': 10}\n"
     ]
    }
   ],
   "source": [
    "print(rejilla.cv_results_[\"rank_test_score\"])\n",
    "print(rejilla.cv_results_[\"mean_test_score\"])\n",
    "print(rejilla.best_score_)\n",
    "print(rejilla.best_params_)"
   ]
  },
  {
   "cell_type": "markdown",
   "metadata": {},
   "source": [
    "<BR><BR><BR><BR><BR><BR><BR><BR><BR><BR><BR><BR><BR><BR><BR><BR><BR><BR><BR>\n",
    "<h2 style=\"color:purple\">Usando/<span style=\"color:blue\">Extrayendo</span> el mejor modelo</h2>"
   ]
  },
  {
   "cell_type": "code",
   "execution_count": 7,
   "metadata": {},
   "outputs": [
    {
     "name": "stdout",
     "output_type": "stream",
     "text": [
      "[1]\n",
      "[1]\n"
     ]
    }
   ],
   "source": [
    "print(rejilla.predict([[50, 16, 1, 1, 40]]))\n",
    "mejor_bosque = rejilla.best_estimator_\n",
    "print(mejor_bosque.predict([[50, 16, 1, 1, 40]]))"
   ]
  },
  {
   "cell_type": "markdown",
   "metadata": {},
   "source": [
    "<BR><BR><BR><BR><BR><BR><BR><BR><BR><BR><BR><BR><BR><BR><BR><BR><BR><BR><BR>\n",
    "<h2 style=\"color:purple\">Búsqueda<span style=\"color:blue\"> Aleatoria </span></h2>\n"
   ]
  },
  {
   "cell_type": "code",
   "execution_count": 8,
   "metadata": {},
   "outputs": [
    {
     "data": {
      "text/plain": [
       "RandomizedSearchCV(cv=5, estimator=RandomForestClassifier(), n_iter=3,\n",
       "                   param_distributions={'criterion': ('gini', 'entropy'),\n",
       "                                        'max_samples': (0.3333333333333333,\n",
       "                                                        0.6666666666666666),\n",
       "                                        'n_estimators': (10, 20, 30)},\n",
       "                   scoring='accuracy')"
      ]
     },
     "execution_count": 8,
     "metadata": {},
     "output_type": "execute_result"
    }
   ],
   "source": [
    "from sklearn.model_selection import RandomizedSearchCV\n",
    "\n",
    "parametros = {\"criterion\": (\"gini\", \"entropy\"),\n",
    "              \"n_estimators\" : (10, 20, 30), \n",
    "              \"max_samples\" : (1/3, 2/3)}\n",
    "\n",
    "rejilla_aleatoria = RandomizedSearchCV(bosque, \n",
    "                                       parametros,\n",
    "                                       scoring = \"accuracy\", \n",
    "                                       cv=5, \n",
    "                                       n_iter=3)\n",
    "\n",
    "rejilla_aleatoria.fit(personas[personas.columns[:-1]].values,\n",
    "                      personas[\"ingreso\"].values)"
   ]
  },
  {
   "cell_type": "markdown",
   "metadata": {},
   "source": [
    "<BR><BR><BR><BR><BR><BR><BR><BR><BR><BR><BR><BR><BR><BR><BR><BR><BR><BR><BR>\n",
    "<h2 style=\"color:purple\">Parámetros Explorados Aleatoriamente</h2>"
   ]
  },
  {
   "cell_type": "code",
   "execution_count": 9,
   "metadata": {},
   "outputs": [
    {
     "data": {
      "text/plain": [
       "[{'n_estimators': 10, 'max_samples': 0.3333333333333333, 'criterion': 'gini'},\n",
       " {'n_estimators': 20, 'max_samples': 0.6666666666666666, 'criterion': 'gini'},\n",
       " {'n_estimators': 30,\n",
       "  'max_samples': 0.3333333333333333,\n",
       "  'criterion': 'entropy'}]"
      ]
     },
     "execution_count": 9,
     "metadata": {},
     "output_type": "execute_result"
    }
   ],
   "source": [
    "rejilla_aleatoria.cv_results_[\"params\"]"
   ]
  },
  {
   "cell_type": "markdown",
   "metadata": {},
   "source": [
    "<BR><BR><BR><BR><BR><BR><BR><BR><BR><BR><BR><BR><BR><BR><BR><BR><BR><BR><BR>\n",
    "<h2 style=\"color:purple\">Mejores Parámetros (seleccionados aleatoriamente)</h2>"
   ]
  },
  {
   "cell_type": "code",
   "execution_count": 10,
   "metadata": {
    "scrolled": true
   },
   "outputs": [
    {
     "name": "stdout",
     "output_type": "stream",
     "text": [
      "0.8099999999999999\n",
      "{'n_estimators': 30, 'max_samples': 0.3333333333333333, 'criterion': 'entropy'}\n"
     ]
    }
   ],
   "source": [
    "print(rejilla_aleatoria.best_score_)\n",
    "print(rejilla_aleatoria.best_params_)"
   ]
  }
 ],
 "metadata": {
  "kernelspec": {
   "display_name": "Python 3",
   "language": "python",
   "name": "python3"
  },
  "language_info": {
   "codemirror_mode": {
    "name": "ipython",
    "version": 3
   },
   "file_extension": ".py",
   "mimetype": "text/x-python",
   "name": "python",
   "nbconvert_exporter": "python",
   "pygments_lexer": "ipython3",
   "version": "3.8.5"
  }
 },
 "nbformat": 4,
 "nbformat_minor": 4
}
