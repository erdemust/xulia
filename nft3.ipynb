{
  "nbformat": 4,
  "nbformat_minor": 0,
  "metadata": {
    "colab": {
      "private_outputs": true,
      "provenance": [],
      "authorship_tag": "ABX9TyNPvgO18PsVuouQLjGNDuiE",
      "include_colab_link": true
    },
    "kernelspec": {
      "name": "python3",
      "display_name": "Python 3"
    },
    "language_info": {
      "name": "python"
    }
  },
  "cells": [
    {
      "cell_type": "markdown",
      "metadata": {
        "id": "view-in-github",
        "colab_type": "text"
      },
      "source": [
        "<a href=\"https://colab.research.google.com/github/erdemust/xulia/blob/master/nft3.ipynb\" target=\"_parent\"><img src=\"https://colab.research.google.com/assets/colab-badge.svg\" alt=\"Open In Colab\"/></a>"
      ]
    },
    {
      "cell_type": "markdown",
      "source": [
        "bg_color resmin arka plan rengini verir\n",
        "rgba\n",
        "red green blue alpha\n",
        "k y m ve parlaklık degerlerini verdik\n"
      ],
      "metadata": {
        "id": "3i575f66Wkcm"
      }
    },
    {
      "cell_type": "markdown",
      "source": [
        "pil kutuphanesi ile resim yapıyoruz"
      ],
      "metadata": {
        "id": "78BsmjyRSFZu"
      }
    },
    {
      "cell_type": "markdown",
      "source": [
        "rgba\n",
        "red green blue alpha\n",
        "k y m ve parlık değerlerini veriri"
      ],
      "metadata": {
        "id": "vLL2A3GitWC_"
      }
    },
    {
      "cell_type": "code",
      "source": [
        "from PIL import Image, ImageDraw, ImageChops\n",
        "import os\n",
        "import random\n",
        "import colorsys\n",
        "import argparse\n",
        "import random\n",
        "import numpy as np\n",
        "import math\n",
        "import matplotlib.pyplot as plt\n",
        "bg_color = (123, 0,0,255)\n",
        "boyut = 256\n",
        "resim = Image.new('RGBA', (boyut,boyut), bg_color) \n",
        "cizim= ImageDraw.Draw(resim)\n",
        "dongu =random.randint(2,12) \n",
        "for i in range(1,dongu):\n",
        "    rasNok1= random.randint(2,boyut)\n",
        "    rasNok2= random.randint(2,boyut)\n",
        "    rasNok3= random.randint(2,boyut)\n",
        "    rasNok4= random.randint(2,boyut)\n",
        "    line_color = (rasNok1,rasNok2,rasNok3)\n",
        "    cizim.line((rasNok1,rasNok2, rasNok3,  rasNok4), fill= line_color  , width =rasNok1 // 22)\n",
        " \n",
        "plt.imshow(resim)\n",
        "plt.show()"
      ],
      "metadata": {
        "id": "IAylBAdn2w6q"
      },
      "execution_count": null,
      "outputs": []
    },
    {
      "cell_type": "markdown",
      "source": [
        "cok guzel yawqq\n"
      ],
      "metadata": {
        "id": "k-0f-mULuJXW"
      }
    },
    {
      "cell_type": "markdown",
      "source": [
        "rasgele noktalra ve renklere ve kalınlıga göre zigiler Çizer"
      ],
      "metadata": {
        "id": "Vek7Dn3RddOn"
      }
    },
    {
      "cell_type": "markdown",
      "source": [
        "döngülerde belirlenen sayiya kadar ayni işlem yapılır"
      ],
      "metadata": {
        "id": "8WF7qA41Z1Mu"
      }
    },
    {
      "cell_type": "code",
      "source": [
        "import random\n",
        "sayi= random.randint(1,5)\n",
        "for sayi in range(2, sayi):\n",
        "    print(\"anladim \"*sayi)"
      ],
      "metadata": {
        "id": "MqGggdo_ZcMv"
      },
      "execution_count": null,
      "outputs": []
    },
    {
      "cell_type": "markdown",
      "source": [],
      "metadata": {
        "id": "cDWvVFSmWH42"
      }
    },
    {
      "cell_type": "markdown",
      "source": [],
      "metadata": {
        "id": "w91JpKJnWGPv"
      }
    },
    {
      "cell_type": "markdown",
      "source": [
        "w genislik\n",
        "h yükseklik"
      ],
      "metadata": {
        "id": "dX9Q8HODSikW"
      }
    },
    {
      "cell_type": "markdown",
      "source": [
        "image_size_px resmin boyutu"
      ],
      "metadata": {
        "id": "s4Cf1nMkzOKQ"
      }
    },
    {
      "cell_type": "markdown",
      "source": [
        "random_point rasgele nokta"
      ],
      "metadata": {
        "id": "GRb8zBc4zXfP"
      }
    },
    {
      "cell_type": "markdown",
      "source": [
        "generate_art resim oluştur"
      ],
      "metadata": {
        "id": "SK8DFyoZzlFn"
      }
    },
    {
      "cell_type": "markdown",
      "source": [
        "padding kenar boslugu"
      ],
      "metadata": {
        "id": "2XUCn2SIzxKQ"
      }
    },
    {
      "cell_type": "markdown",
      "source": [
        " n_points = len(points) - 1\n",
        " noktaların sayısını bir azi"
      ],
      "metadata": {
        "id": "J7iDZeDU0SBv"
      }
    },
    {
      "cell_type": "code",
      "execution_count": null,
      "metadata": {
        "id": "6RD89pM42krQ"
      },
      "outputs": [],
      "source": [
        "from numpy.lib.polynomial import polyint\n",
        "from PIL import Image, ImageDraw, ImageChops\n",
        "import os\n",
        "import random\n",
        "import colorsys\n",
        "import argparse\n",
        "import matplotlib.pyplot as plt\n",
        "padding = 12\n",
        "renk = random.randint(3,256)\n",
        "bg_color = (renk , renk // 16 , renk % 128)\n",
        "image_size_px=256\n",
        "image = Image.new(\"RGB\", (image_size_px, image_size_px), bg_color)\n",
        "draw= ImageDraw.Draw(image)\n",
        "\n",
        "def random_point(image_size_px: int, padding: int):\n",
        "    return random.randint(padding, image_size_px - padding)\n",
        "\n",
        "def generate_art():\n",
        "\n",
        "    # How many lines do we want to draw?\n",
        "    num_lines = 7\n",
        "    points = []\n",
        "    # Generate points to draw.\n",
        "    for _ in range(num_lines):\n",
        "        point = (\n",
        "            random_point(image_size_px, padding),\n",
        "            random_point(image_size_px, padding),\n",
        "        )\n",
        "        points.append(point)\n",
        "\n",
        "    n_points = len(points) - 1\n",
        "    print(points)\n",
        "    print(n_points)\n",
        "    \n",
        " \n",
        "    \n",
        "    for i, point in enumerate(points):\n",
        "\n",
        "        p1= point # Create the overlay.\n",
        "   \n",
        "        if i == n_points:\n",
        "            # Connect the last point back to the first.\n",
        "            p2 = points[0]\n",
        "        else:\n",
        "            # Otherwise connect it to the next element.\n",
        "            p2= points[i + 1]\n",
        "        linexy= (p1,p2)\n",
        "        linecolor= (i*11,i*12,i*22)\n",
        "        print(point)\n",
        "\n",
        "        # Draw the line.\n",
        "        draw.line(linexy, fill= linecolor, width=i)\n",
        "generate_art()\n",
        "plt.imshow(image)\n",
        "plt.show()\n",
        "\n",
        "         \n",
        " \n",
        "\n",
        "\n",
        " "
      ]
    },
    {
      "cell_type": "markdown",
      "source": [],
      "metadata": {
        "id": "ZxnI0W1pzVdR"
      }
    },
    {
      "cell_type": "code",
      "source": [],
      "metadata": {
        "id": "3AeW1xGa2oRK"
      },
      "execution_count": null,
      "outputs": []
    }
  ]
}