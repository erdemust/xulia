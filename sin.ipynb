1 + sin(3)
