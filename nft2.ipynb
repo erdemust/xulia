{
  "nbformat": 4,
  "nbformat_minor": 0,
  "metadata": {
    "colab": {
      "private_outputs": true,
      "provenance": [],
      "authorship_tag": "ABX9TyOo5juaQG+7FFlfI2LNhUD4",
      "include_colab_link": true
    },
    "kernelspec": {
      "name": "python3",
      "display_name": "Python 3"
    },
    "language_info": {
      "name": "python"
    }
  },
  "cells": [
    {
      "cell_type": "markdown",
      "metadata": {
        "id": "view-in-github",
        "colab_type": "text"
      },
      "source": [
        "<a href=\"https://colab.research.google.com/github/erdemust/xulia/blob/master/nft2.ipynb\" target=\"_parent\"><img src=\"https://colab.research.google.com/assets/colab-badge.svg\" alt=\"Open In Colab\"/></a>"
      ]
    },
    {
      "cell_type": "markdown",
      "source": [
        "bg_color resmin arka plan rengini verir\n",
        "rgba\n",
        "red green blue alpha\n",
        "k y m ve parlaklık degerlerini verdik\n"
      ],
      "metadata": {
        "id": "3i575f66Wkcm"
      }
    },
    {
      "cell_type": "markdown",
      "source": [
        "pil kutuphanesi ile resim yapıyoruz"
      ],
      "metadata": {
        "id": "78BsmjyRSFZu"
      }
    },
    {
      "cell_type": "code",
      "source": [
        "from PIL import Image, ImageDraw, ImageChops\n",
        "import os\n",
        "import random\n",
        "import colorsys\n",
        "import argparse\n",
        "import random\n",
        "\n",
        " \n",
        "import numpy as np\n",
        "import math\n",
        "import matplotlib.pyplot as plt\n",
        "# creating a image object (new image object) with\n",
        "# RGB mode and size 200x200\n",
        "bg_color = (123,5,255,222)\n",
        "boyut = 256\n",
        " \n",
        " \n",
        "resim = Image.new('RGBA', (boyut, boyut), bg_color) \n",
        "cizim= ImageDraw.Draw(resim) \n",
        "for i in range(2,17):\n",
        "    rasNok1= random.randint(2,boyut)\n",
        "    rasNok2= random.randint(2,boyut)\n",
        "    rasNok3= random.randint(2,boyut)\n",
        "    rasNok4= random.randint(2,boyut)\n",
        "    line_color = (rasNok1,rasNok2,rasNok3)\n",
        "    cizim.line((rasNok1,rasNok2, rasNok3,  rasNok4), fill= line_color  , width =rasNok1 // i)\n",
        " \n",
        "plt.imshow(resim)\n",
        "plt.show()"
      ],
      "metadata": {
        "id": "IAylBAdn2w6q"
      },
      "execution_count": null,
      "outputs": []
    },
    {
      "cell_type": "markdown",
      "source": [
        "rasgele noktalra ve renklere ve kalınlıga göre zigiler Çizer"
      ],
      "metadata": {
        "id": "Vek7Dn3RddOn"
      }
    },
    {
      "cell_type": "markdown",
      "source": [
        "döngülerde belirlenen sayiya kadar ayni işlem yapılır"
      ],
      "metadata": {
        "id": "8WF7qA41Z1Mu"
      }
    },
    {
      "cell_type": "code",
      "source": [
        "import random\n",
        "sayi= random.randint(3,5)\n",
        "for sayi in range(sayi):\n",
        "    print(\"anladim \"*sayi)"
      ],
      "metadata": {
        "id": "MqGggdo_ZcMv"
      },
      "execution_count": null,
      "outputs": []
    },
    {
      "cell_type": "markdown",
      "source": [],
      "metadata": {
        "id": "cDWvVFSmWH42"
      }
    },
    {
      "cell_type": "markdown",
      "source": [],
      "metadata": {
        "id": "w91JpKJnWGPv"
      }
    },
    {
      "cell_type": "markdown",
      "source": [
        "w genislik\n",
        "h yükseklik"
      ],
      "metadata": {
        "id": "dX9Q8HODSikW"
      }
    },
    {
      "cell_type": "code",
      "execution_count": null,
      "metadata": {
        "id": "6RD89pM42krQ"
      },
      "outputs": [],
      "source": [
        "from numpy.lib.polynomial import polyint\n",
        "from PIL import Image, ImageDraw, ImageChops\n",
        "import os\n",
        "import random\n",
        "import colorsys\n",
        "import argparse\n",
        "import matplotlib.pyplot as plt\n",
        "\n",
        "bg_color = (0, 0, 0)\n",
        "image_size_px=256\n",
        "image = Image.new(\"RGB\", (image_size_px, image_size_px), bg_color)\n",
        "draw= ImageDraw.Draw(image)\n",
        "\n",
        "def random_point(image_size_px: int, padding: int):\n",
        "    return random.randint(padding, image_size_px - padding)\n",
        "\n",
        "def generate_art():\n",
        "    rescale = 2\n",
        "    image_size_px = 128 * rescale\n",
        "    padding = 12 * rescale\n",
        "\n",
        " \n",
        " \n",
        "\n",
        "    # How many lines do we want to draw?\n",
        "    num_lines = 10\n",
        "    points = []\n",
        "\n",
        "    # Pick the colors.\n",
        "    start_color = random_color()\n",
        "    end_color = random_color()\n",
        "\n",
        "    # Generate points to draw.\n",
        "    for _ in range(num_lines):\n",
        "        point = (\n",
        "            random_point(image_size_px, padding),\n",
        "            random_point(image_size_px, padding),\n",
        "        )\n",
        "        points.append(point)\n",
        "\n",
        "    print(points)\n",
        " \n",
        "    n_points = len(points) - 1\n",
        "    for i, point in enumerate(points):\n",
        "\n",
        "        p1= point # Create the overlay.\n",
        "        overlay_image = Image.new(\"RGB\", (image_size_px, image_size_px), (0, 0, 0))\n",
        "        overlay_draw = ImageDraw.Draw(overlay_image)\n",
        "\n",
        "        if i == n_points:\n",
        "            # Connect the last point back to the first.\n",
        "            p2 = points[0]\n",
        "        else:\n",
        "            # Otherwise connect it to the next element.\n",
        "            p2= points[i + 1]\n",
        "        linexy= (p1,p2)\n",
        "        linecolor= (i*11,i*12,i*22)\n",
        "\n",
        "        # Draw the line.\n",
        "        draw.line(linexy, fill= linecolor, width=i*2)\n",
        "generate_art()\n",
        "plt.imshow(image)\n",
        "plt.show()\n",
        "\n",
        "         \n",
        " \n",
        "\n",
        "\n",
        " "
      ]
    },
    {
      "cell_type": "code",
      "source": [],
      "metadata": {
        "id": "3AeW1xGa2oRK"
      },
      "execution_count": null,
      "outputs": []
    }
  ]
}