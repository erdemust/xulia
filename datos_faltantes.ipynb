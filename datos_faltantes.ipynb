{
 "cells": [
  {
   "cell_type": "markdown",
   "metadata": {},
   "source": [
    "# Manejo de Datos Faltantes\n",
    "\n",
    "@author: Octavio Gutiérrez de Código Máquina\n",
    "\n",
    "URL del canal: https://www.youtube.com/CodigoMaquina\n",
    "\n",
    "URL del video: https://youtu.be/XiKYdHUsgyM\n"
   ]
  },
  {
   "cell_type": "code",
   "execution_count": 2,
   "metadata": {},
   "outputs": [
    {
     "name": "stdout",
     "output_type": "stream",
     "text": [
      "0       Juan\n",
      "1      Luisa\n",
      "2        NaN\n",
      "3     Carmen\n",
      "4        NaN\n",
      "5      Mario\n",
      "6      Pedro\n",
      "7    Gustavo\n",
      "8     Carlos\n",
      "Name: nombre, dtype: object\n",
      "  nombre  edad  ingreso\n",
      "2    NaN  70.0  20000.0\n",
      "4    NaN   NaN      NaN\n",
      "None\n",
      "   nombre  edad  ingreso\n",
      "0    Juan  35.0  15800.0\n",
      "1   Luisa  25.0  17000.0\n",
      "3  Carmen  49.0  22000.0\n",
      "5   Mario  30.0  15800.0\n",
      "6   Pedro   NaN  17400.0\n",
      "   nombre  edad  ingreso\n",
      "0    Juan  35.0  15800.0\n",
      "1   Luisa  25.0  17000.0\n",
      "3  Carmen  49.0  22000.0\n",
      "5   Mario  30.0  15800.0\n",
      "6   Pedro   0.0  17400.0\n",
      "0      Juan\n",
      "1     Luisa\n",
      "3    Carmen\n",
      "5     Mario\n",
      "6     Pedro\n",
      "Name: nombre, dtype: object\n",
      "17600.0 17000.0 15800.0\n",
      "0    15800.0\n",
      "1    17000.0\n",
      "3    22000.0\n",
      "5    15800.0\n",
      "6    17400.0\n",
      "Name: ingreso, dtype: float64\n"
     ]
    }
   ],
   "source": [
    "import pandas as pd\n",
    "\n",
    "datos = pd.read_csv(\"datos/clientes.csv\")\n",
    "\n",
    "print(datos[\"nombre\"])\n",
    "print(datos[ datos[\"nombre\"].isnull() ])\n",
    "print(datos.dropna(subset=[\"nombre\", \"ingreso\"], inplace=True))\n",
    "print(datos)\n",
    "print(datos.fillna(0))\n",
    "print(datos[\"nombre\"].fillna(\"DESCONOCIDO\"))\n",
    "\n",
    "promedio = datos[\"ingreso\"].mean()\n",
    "mediana = datos[\"ingreso\"].median()\n",
    "moda = datos[\"ingreso\"].mode()[0]\n",
    "print(promedio, mediana, moda)\n",
    "print(datos[\"ingreso\"].fillna(moda))"
   ]
  }
 ],
 "metadata": {
  "kernelspec": {
   "display_name": "Python 3",
   "language": "python",
   "name": "python3"
  },
  "language_info": {
   "codemirror_mode": {
    "name": "ipython",
    "version": 3
   },
   "file_extension": ".py",
   "mimetype": "text/x-python",
   "name": "python",
   "nbconvert_exporter": "python",
   "pygments_lexer": "ipython3",
   "version": "3.8.5"
  }
 },
 "nbformat": 4,
 "nbformat_minor": 4
}
